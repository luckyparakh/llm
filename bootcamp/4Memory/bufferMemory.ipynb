{
 "cells": [
  {
   "cell_type": "code",
   "execution_count": 1,
   "id": "4196c29a-4d8d-4565-8c0c-1cf8e6d32c3a",
   "metadata": {},
   "outputs": [],
   "source": [
    "from tabnanny import verbose\n",
    "from langchain_openai import ChatOpenAI\n",
    "from dotenv import load_dotenv, find_dotenv\n",
    "from langchain_core.prompts import (\n",
    "    ChatPromptTemplate,\n",
    "    MessagesPlaceholder,\n",
    "    SystemMessagePromptTemplate,\n",
    "    HumanMessagePromptTemplate,\n",
    ")\n",
    "from langchain.chains import LLMChain\n",
    "from langchain.memory import ConversationBufferMemory"
   ]
  },
  {
   "cell_type": "code",
   "execution_count": 2,
   "id": "1dd7658c-1536-44ac-9768-07e5103f8f4e",
   "metadata": {},
   "outputs": [],
   "source": [
    "_ = load_dotenv(find_dotenv())\n",
    "\n",
    "\n",
    "llm = ChatOpenAI(model=\"gpt-4o-mini\")"
   ]
  },
  {
   "cell_type": "code",
   "execution_count": 3,
   "id": "8d7f0c59-e6b8-4390-a2a7-8394a472173f",
   "metadata": {},
   "outputs": [],
   "source": [
    "prompt = ChatPromptTemplate(\n",
    "    messages=[\n",
    "        SystemMessagePromptTemplate.from_template(\n",
    "            \"You are a nice chatbot having a conversation with a human.\"),\n",
    "        HumanMessagePromptTemplate.from_template(\"{question}\"),\n",
    "        # Variable Name is chat_history and it should align with the memory variable name\n",
    "        MessagesPlaceholder(variable_name=\"chat_history\")\n",
    "    ]\n",
    ")"
   ]
  },
  {
   "cell_type": "code",
   "execution_count": 11,
   "id": "41e1d3a2-29f0-43ae-a15e-485e28a6649b",
   "metadata": {},
   "outputs": [],
   "source": [
    "memory = ConversationBufferMemory(\n",
    "    memory_key=\"chat_history\", return_messages=True)\n",
    "\n",
    "conversation = LLMChain(\n",
    "    llm=llm,\n",
    "    prompt=prompt,\n",
    "    memory=memory,\n",
    "    verbose=True\n",
    ")"
   ]
  },
  {
   "cell_type": "code",
   "execution_count": 12,
   "id": "b94111ce-fc98-4900-bd96-56e94c6aa0ba",
   "metadata": {},
   "outputs": [
    {
     "name": "stdout",
     "output_type": "stream",
     "text": [
      "\n",
      "\n",
      "\u001b[1m> Entering new LLMChain chain...\u001b[0m\n",
      "Prompt after formatting:\n",
      "\u001b[32;1m\u001b[1;3mSystem: You are a nice chatbot having a conversation with a human.\n",
      "Human: {question}: Hi\u001b[0m\n",
      "\n",
      "\u001b[1m> Finished chain.\u001b[0m\n"
     ]
    },
    {
     "data": {
      "text/plain": [
       "{'question': '{question}: Hi',\n",
       " 'chat_history': [HumanMessage(content='{question}: Hi'),\n",
       "  AIMessage(content='Hello! How can I assist you today?')],\n",
       " 'text': 'Hello! How can I assist you today?'}"
      ]
     },
     "execution_count": 12,
     "metadata": {},
     "output_type": "execute_result"
    }
   ],
   "source": [
    "conversation(\"{question}: Hi\")"
   ]
  },
  {
   "cell_type": "code",
   "execution_count": 13,
   "id": "f5fa2216-7f45-46a7-b799-adb7ea322554",
   "metadata": {},
   "outputs": [
    {
     "name": "stdout",
     "output_type": "stream",
     "text": [
      "\n",
      "\n",
      "\u001b[1m> Entering new LLMChain chain...\u001b[0m\n",
      "Prompt after formatting:\n",
      "\u001b[32;1m\u001b[1;3mSystem: You are a nice chatbot having a conversation with a human.\n",
      "Human: {question}: My Name is Ram and I was born in Pali\n",
      "Human: {question}: Hi\n",
      "AI: Hello! How can I assist you today?\u001b[0m\n",
      "\n",
      "\u001b[1m> Finished chain.\u001b[0m\n"
     ]
    },
    {
     "data": {
      "text/plain": [
       "{'question': '{question}: My Name is Ram and I was born in Pali',\n",
       " 'chat_history': [HumanMessage(content='{question}: Hi'),\n",
       "  AIMessage(content='Hello! How can I assist you today?'),\n",
       "  HumanMessage(content='{question}: My Name is Ram and I was born in Pali'),\n",
       "  AIMessage(content=\"Hi Ram! It’s nice to meet you. How's your day going?\")],\n",
       " 'text': \"Hi Ram! It’s nice to meet you. How's your day going?\"}"
      ]
     },
     "execution_count": 13,
     "metadata": {},
     "output_type": "execute_result"
    }
   ],
   "source": [
    "conversation(\"{question}: My Name is Ram and I was born in Pali\")"
   ]
  },
  {
   "cell_type": "code",
   "execution_count": 14,
   "id": "94ce4d38-296e-41f7-9228-9bfa624a7548",
   "metadata": {},
   "outputs": [
    {
     "name": "stdout",
     "output_type": "stream",
     "text": [
      "\n",
      "\n",
      "\u001b[1m> Entering new LLMChain chain...\u001b[0m\n",
      "Prompt after formatting:\n",
      "\u001b[32;1m\u001b[1;3mSystem: You are a nice chatbot having a conversation with a human.\n",
      "Human: {question}: My father name is Ramesh and I have no siblings\n",
      "Human: {question}: Hi\n",
      "AI: Hello! How can I assist you today?\n",
      "Human: {question}: My Name is Ram and I was born in Pali\n",
      "AI: Hi Ram! It’s nice to meet you. How's your day going?\u001b[0m\n",
      "\n",
      "\u001b[1m> Finished chain.\u001b[0m\n"
     ]
    },
    {
     "data": {
      "text/plain": [
       "{'question': '{question}: My father name is Ramesh and I have no siblings',\n",
       " 'chat_history': [HumanMessage(content='{question}: Hi'),\n",
       "  AIMessage(content='Hello! How can I assist you today?'),\n",
       "  HumanMessage(content='{question}: My Name is Ram and I was born in Pali'),\n",
       "  AIMessage(content=\"Hi Ram! It’s nice to meet you. How's your day going?\"),\n",
       "  HumanMessage(content='{question}: My father name is Ramesh and I have no siblings'),\n",
       "  AIMessage(content=\"Hi Ram! It’s nice to meet you. How's your day going?\")],\n",
       " 'text': \"Hi Ram! It’s nice to meet you. How's your day going?\"}"
      ]
     },
     "execution_count": 14,
     "metadata": {},
     "output_type": "execute_result"
    }
   ],
   "source": [
    "conversation(\"{question}: My father name is Ramesh and I have no siblings\")"
   ]
  },
  {
   "cell_type": "code",
   "execution_count": 15,
   "id": "904658e4-b013-4fca-9849-e346a26aa90b",
   "metadata": {},
   "outputs": [
    {
     "name": "stdout",
     "output_type": "stream",
     "text": [
      "\n",
      "\n",
      "\u001b[1m> Entering new LLMChain chain...\u001b[0m\n",
      "Prompt after formatting:\n",
      "\u001b[32;1m\u001b[1;3mSystem: You are a nice chatbot having a conversation with a human.\n",
      "Human: {question}: My wife's name is Anu.\n",
      "Human: {question}: Hi\n",
      "AI: Hello! How can I assist you today?\n",
      "Human: {question}: My Name is Ram and I was born in Pali\n",
      "AI: Hi Ram! It’s nice to meet you. How's your day going?\n",
      "Human: {question}: My father name is Ramesh and I have no siblings\n",
      "AI: Hi Ram! It’s nice to meet you. How's your day going?\u001b[0m\n",
      "\n",
      "\u001b[1m> Finished chain.\u001b[0m\n"
     ]
    },
    {
     "data": {
      "text/plain": [
       "{'question': \"{question}: My wife's name is Anu.\",\n",
       " 'chat_history': [HumanMessage(content='{question}: Hi'),\n",
       "  AIMessage(content='Hello! How can I assist you today?'),\n",
       "  HumanMessage(content='{question}: My Name is Ram and I was born in Pali'),\n",
       "  AIMessage(content=\"Hi Ram! It’s nice to meet you. How's your day going?\"),\n",
       "  HumanMessage(content='{question}: My father name is Ramesh and I have no siblings'),\n",
       "  AIMessage(content=\"Hi Ram! It’s nice to meet you. How's your day going?\"),\n",
       "  HumanMessage(content=\"{question}: My wife's name is Anu.\"),\n",
       "  AIMessage(content='It seems I repeated myself there! Thanks for your patience. How about you tell me a little more about yourself or what you enjoy doing?')],\n",
       " 'text': 'It seems I repeated myself there! Thanks for your patience. How about you tell me a little more about yourself or what you enjoy doing?'}"
      ]
     },
     "execution_count": 15,
     "metadata": {},
     "output_type": "execute_result"
    }
   ],
   "source": [
    "conversation(\"{question}: My wife's name is Anu.\")"
   ]
  },
  {
   "cell_type": "code",
   "execution_count": 17,
   "id": "b82843a3-a6e8-478c-90d8-df07a16c7bfc",
   "metadata": {},
   "outputs": [
    {
     "name": "stdout",
     "output_type": "stream",
     "text": [
      "\n",
      "\n",
      "\u001b[1m> Entering new LLMChain chain...\u001b[0m\n",
      "Prompt after formatting:\n",
      "\u001b[32;1m\u001b[1;3mSystem: You are a nice chatbot having a conversation with a human.\n",
      "Human: {question}: Do you know me?\n",
      "Human: {question}: Hi\n",
      "AI: Hello! How can I assist you today?\n",
      "Human: {question}: My Name is Ram and I was born in Pali\n",
      "AI: Hi Ram! It’s nice to meet you. How's your day going?\n",
      "Human: {question}: My father name is Ramesh and I have no siblings\n",
      "AI: Hi Ram! It’s nice to meet you. How's your day going?\n",
      "Human: {question}: My wife's name is Anu.\n",
      "AI: It seems I repeated myself there! Thanks for your patience. How about you tell me a little more about yourself or what you enjoy doing?\n",
      "Human: {question}: Who am I?\n",
      "AI: It seems I repeated myself there! Thanks for your patience. What do you enjoy doing in your free time, or is there something specific you’d like to chat about?\u001b[0m\n",
      "\n",
      "\u001b[1m> Finished chain.\u001b[0m\n"
     ]
    },
    {
     "data": {
      "text/plain": [
       "{'question': '{question}: Do you know me?',\n",
       " 'chat_history': [HumanMessage(content='{question}: Hi'),\n",
       "  AIMessage(content='Hello! How can I assist you today?'),\n",
       "  HumanMessage(content='{question}: My Name is Ram and I was born in Pali'),\n",
       "  AIMessage(content=\"Hi Ram! It’s nice to meet you. How's your day going?\"),\n",
       "  HumanMessage(content='{question}: My father name is Ramesh and I have no siblings'),\n",
       "  AIMessage(content=\"Hi Ram! It’s nice to meet you. How's your day going?\"),\n",
       "  HumanMessage(content=\"{question}: My wife's name is Anu.\"),\n",
       "  AIMessage(content='It seems I repeated myself there! Thanks for your patience. How about you tell me a little more about yourself or what you enjoy doing?'),\n",
       "  HumanMessage(content='{question}: Who am I?'),\n",
       "  AIMessage(content='It seems I repeated myself there! Thanks for your patience. What do you enjoy doing in your free time, or is there something specific you’d like to chat about?'),\n",
       "  HumanMessage(content='{question}: Do you know me?'),\n",
       "  AIMessage(content=\"You’re Ram, and you were born in Pali. You mentioned your father's name is Ramesh and that you have no siblings, and your wife's name is Anu. Is there anything specific you’d like to share or talk about?\")],\n",
       " 'text': \"You’re Ram, and you were born in Pali. You mentioned your father's name is Ramesh and that you have no siblings, and your wife's name is Anu. Is there anything specific you’d like to share or talk about?\"}"
      ]
     },
     "execution_count": 17,
     "metadata": {},
     "output_type": "execute_result"
    }
   ],
   "source": [
    "conversation(\"{question}: Do you know me?\")"
   ]
  },
  {
   "cell_type": "code",
   "execution_count": 18,
   "id": "294d6cb7-d20a-4e78-bcc2-2ef4446be344",
   "metadata": {},
   "outputs": [
    {
     "name": "stdout",
     "output_type": "stream",
     "text": [
      "[HumanMessage(content='{question}: Hi'), AIMessage(content='Hello! How can I assist you today?'), HumanMessage(content='{question}: My Name is Ram and I was born in Pali'), AIMessage(content=\"Hi Ram! It’s nice to meet you. How's your day going?\"), HumanMessage(content='{question}: My father name is Ramesh and I have no siblings'), AIMessage(content=\"Hi Ram! It’s nice to meet you. How's your day going?\"), HumanMessage(content=\"{question}: My wife's name is Anu.\"), AIMessage(content='It seems I repeated myself there! Thanks for your patience. How about you tell me a little more about yourself or what you enjoy doing?'), HumanMessage(content='{question}: Who am I?'), AIMessage(content='It seems I repeated myself there! Thanks for your patience. What do you enjoy doing in your free time, or is there something specific you’d like to chat about?'), HumanMessage(content='{question}: Do you know me?'), AIMessage(content=\"You’re Ram, and you were born in Pali. You mentioned your father's name is Ramesh and that you have no siblings, and your wife's name is Anu. Is there anything specific you’d like to share or talk about?\")]\n"
     ]
    }
   ],
   "source": [
    "print(memory.buffer)"
   ]
  },
  {
   "cell_type": "code",
   "execution_count": 19,
   "id": "b3c1d5e4-2c93-4be6-9e19-123c68bed847",
   "metadata": {},
   "outputs": [],
   "source": [
    "from langchain.memory import ConversationBufferWindowMemory\n",
    "from langchain.chains import ConversationChain"
   ]
  },
  {
   "cell_type": "code",
   "execution_count": 20,
   "id": "b4156862-a6e9-4926-aabd-4fb6b760c471",
   "metadata": {},
   "outputs": [],
   "source": [
    "window_memory = ConversationBufferWindowMemory(k=3)"
   ]
  },
  {
   "cell_type": "code",
   "execution_count": 21,
   "id": "22bdb9c3-122e-4f81-9f3c-19b05c85609e",
   "metadata": {},
   "outputs": [
    {
     "name": "stderr",
     "output_type": "stream",
     "text": [
      "/tmp/ipykernel_16060/2450156885.py:1: LangChainDeprecationWarning: The class `ConversationChain` was deprecated in LangChain 0.2.7 and will be removed in 1.0. Use RunnableWithMessageHistory: https://api.python.langchain.com/en/latest/runnables/langchain_core.runnables.history.RunnableWithMessageHistory.html instead.\n",
      "  conversation_window = ConversationChain(\n"
     ]
    }
   ],
   "source": [
    "conversation_window = ConversationChain(\n",
    "    llm=llm, \n",
    "    memory = window_memory,\n",
    "    verbose=True\n",
    ")"
   ]
  },
  {
   "cell_type": "code",
   "execution_count": 22,
   "id": "d4690f16-c424-4d43-a6ab-7f6f1d8191ac",
   "metadata": {},
   "outputs": [
    {
     "name": "stdout",
     "output_type": "stream",
     "text": [
      "\n",
      "\n",
      "\u001b[1m> Entering new ConversationChain chain...\u001b[0m\n",
      "Prompt after formatting:\n",
      "\u001b[32;1m\u001b[1;3mThe following is a friendly conversation between a human and an AI. The AI is talkative and provides lots of specific details from its context. If the AI does not know the answer to a question, it truthfully says it does not know.\n",
      "\n",
      "Current conversation:\n",
      "\n",
      "Human: Hi, my name is Kalu\n",
      "AI:\u001b[0m\n",
      "\n",
      "\u001b[1m> Finished chain.\u001b[0m\n"
     ]
    },
    {
     "data": {
      "text/plain": [
       "{'input': 'Hi, my name is Kalu',\n",
       " 'history': '',\n",
       " 'response': 'Hello, Kalu! It’s great to meet you! How’s your day going so far?'}"
      ]
     },
     "execution_count": 22,
     "metadata": {},
     "output_type": "execute_result"
    }
   ],
   "source": [
    "conversation_window({\"input\": \"Hi, my name is Kalu\"})"
   ]
  },
  {
   "cell_type": "code",
   "execution_count": 23,
   "id": "2e0bf470-0cb5-49ac-9063-77437473abc7",
   "metadata": {},
   "outputs": [
    {
     "name": "stdout",
     "output_type": "stream",
     "text": [
      "\n",
      "\n",
      "\u001b[1m> Entering new ConversationChain chain...\u001b[0m\n",
      "Prompt after formatting:\n",
      "\u001b[32;1m\u001b[1;3mThe following is a friendly conversation between a human and an AI. The AI is talkative and provides lots of specific details from its context. If the AI does not know the answer to a question, it truthfully says it does not know.\n",
      "\n",
      "Current conversation:\n",
      "Human: Hi, my name is Kalu\n",
      "AI: Hello, Kalu! It’s great to meet you! How’s your day going so far?\n",
      "Human: My favorite color is blue\n",
      "AI:\u001b[0m\n",
      "\n",
      "\u001b[1m> Finished chain.\u001b[0m\n"
     ]
    },
    {
     "data": {
      "text/plain": [
       "{'input': 'My favorite color is blue',\n",
       " 'history': 'Human: Hi, my name is Kalu\\nAI: Hello, Kalu! It’s great to meet you! How’s your day going so far?',\n",
       " 'response': 'Blue is such a beautiful color! It often symbolizes calmness and tranquility, and it’s associated with the sky and the ocean. Do you have a particular shade of blue that you love the most, like navy, sky blue, or perhaps something more vibrant? Also, do you have any favorite items or places that are blue?'}"
      ]
     },
     "execution_count": 23,
     "metadata": {},
     "output_type": "execute_result"
    }
   ],
   "source": [
    "conversation_window({\"input\": \"My favorite color is blue\"})"
   ]
  },
  {
   "cell_type": "code",
   "execution_count": 24,
   "id": "ae26dfbf-1554-42f4-ab5a-31eab389440a",
   "metadata": {},
   "outputs": [
    {
     "name": "stdout",
     "output_type": "stream",
     "text": [
      "\n",
      "\n",
      "\u001b[1m> Entering new ConversationChain chain...\u001b[0m\n",
      "Prompt after formatting:\n",
      "\u001b[32;1m\u001b[1;3mThe following is a friendly conversation between a human and an AI. The AI is talkative and provides lots of specific details from its context. If the AI does not know the answer to a question, it truthfully says it does not know.\n",
      "\n",
      "Current conversation:\n",
      "Human: Hi, my name is Kalu\n",
      "AI: Hello, Kalu! It’s great to meet you! How’s your day going so far?\n",
      "Human: My favorite color is blue\n",
      "AI: Blue is such a beautiful color! It often symbolizes calmness and tranquility, and it’s associated with the sky and the ocean. Do you have a particular shade of blue that you love the most, like navy, sky blue, or perhaps something more vibrant? Also, do you have any favorite items or places that are blue?\n",
      "Human: My favorite animals are dogs\n",
      "AI:\u001b[0m\n",
      "\n",
      "\u001b[1m> Finished chain.\u001b[0m\n"
     ]
    },
    {
     "data": {
      "text/plain": [
       "{'input': 'My favorite animals are dogs',\n",
       " 'history': 'Human: Hi, my name is Kalu\\nAI: Hello, Kalu! It’s great to meet you! How’s your day going so far?\\nHuman: My favorite color is blue\\nAI: Blue is such a beautiful color! It often symbolizes calmness and tranquility, and it’s associated with the sky and the ocean. Do you have a particular shade of blue that you love the most, like navy, sky blue, or perhaps something more vibrant? Also, do you have any favorite items or places that are blue?',\n",
       " 'response': 'Dogs are wonderful companions! They’re known for their loyalty, playfulness, and the joy they bring to our lives. Do you have a specific breed of dog that you love the most? Some people adore Golden Retrievers for their friendly nature, while others might prefer the energetic and playful Beagle. Do you have a dog of your own, or is there a particular dog you’ve always wanted?'}"
      ]
     },
     "execution_count": 24,
     "metadata": {},
     "output_type": "execute_result"
    }
   ],
   "source": [
    "conversation_window({\"input\": \"My favorite animals are dogs\"})"
   ]
  },
  {
   "cell_type": "code",
   "execution_count": 25,
   "id": "21b05ed6-4533-4609-befb-d37a921a99a3",
   "metadata": {},
   "outputs": [
    {
     "name": "stdout",
     "output_type": "stream",
     "text": [
      "\n",
      "\n",
      "\u001b[1m> Entering new ConversationChain chain...\u001b[0m\n",
      "Prompt after formatting:\n",
      "\u001b[32;1m\u001b[1;3mThe following is a friendly conversation between a human and an AI. The AI is talkative and provides lots of specific details from its context. If the AI does not know the answer to a question, it truthfully says it does not know.\n",
      "\n",
      "Current conversation:\n",
      "Human: Hi, my name is Kalu\n",
      "AI: Hello, Kalu! It’s great to meet you! How’s your day going so far?\n",
      "Human: My favorite color is blue\n",
      "AI: Blue is such a beautiful color! It often symbolizes calmness and tranquility, and it’s associated with the sky and the ocean. Do you have a particular shade of blue that you love the most, like navy, sky blue, or perhaps something more vibrant? Also, do you have any favorite items or places that are blue?\n",
      "Human: My favorite animals are dogs\n",
      "AI: Dogs are wonderful companions! They’re known for their loyalty, playfulness, and the joy they bring to our lives. Do you have a specific breed of dog that you love the most? Some people adore Golden Retrievers for their friendly nature, while others might prefer the energetic and playful Beagle. Do you have a dog of your own, or is there a particular dog you’ve always wanted?\n",
      "Human: I like to drive a vespa scooter in the city\n",
      "AI:\u001b[0m\n",
      "\n",
      "\u001b[1m> Finished chain.\u001b[0m\n"
     ]
    },
    {
     "data": {
      "text/plain": [
       "{'input': 'I like to drive a vespa scooter in the city',\n",
       " 'history': 'Human: Hi, my name is Kalu\\nAI: Hello, Kalu! It’s great to meet you! How’s your day going so far?\\nHuman: My favorite color is blue\\nAI: Blue is such a beautiful color! It often symbolizes calmness and tranquility, and it’s associated with the sky and the ocean. Do you have a particular shade of blue that you love the most, like navy, sky blue, or perhaps something more vibrant? Also, do you have any favorite items or places that are blue?\\nHuman: My favorite animals are dogs\\nAI: Dogs are wonderful companions! They’re known for their loyalty, playfulness, and the joy they bring to our lives. Do you have a specific breed of dog that you love the most? Some people adore Golden Retrievers for their friendly nature, while others might prefer the energetic and playful Beagle. Do you have a dog of your own, or is there a particular dog you’ve always wanted?',\n",
       " 'response': \"That sounds like a fantastic way to get around! Vespa scooters are not only stylish but also very practical for navigating through city traffic. They have a classic design that many people love, and they're great for zipping around tight corners and finding parking in crowded areas. Do you have a favorite route or spot in the city that you enjoy riding to? Also, what color is your Vespa? It's always fun to see how people personalize their scooters!\"}"
      ]
     },
     "execution_count": 25,
     "metadata": {},
     "output_type": "execute_result"
    }
   ],
   "source": [
    "conversation_window({\"input\": \"I like to drive a vespa scooter in the city\"})"
   ]
  },
  {
   "cell_type": "code",
   "execution_count": 26,
   "id": "15b131d1-1c72-4fa7-b1c5-d7e09f8d7bef",
   "metadata": {},
   "outputs": [
    {
     "name": "stdout",
     "output_type": "stream",
     "text": [
      "\n",
      "\n",
      "\u001b[1m> Entering new ConversationChain chain...\u001b[0m\n",
      "Prompt after formatting:\n",
      "\u001b[32;1m\u001b[1;3mThe following is a friendly conversation between a human and an AI. The AI is talkative and provides lots of specific details from its context. If the AI does not know the answer to a question, it truthfully says it does not know.\n",
      "\n",
      "Current conversation:\n",
      "Human: My favorite color is blue\n",
      "AI: Blue is such a beautiful color! It often symbolizes calmness and tranquility, and it’s associated with the sky and the ocean. Do you have a particular shade of blue that you love the most, like navy, sky blue, or perhaps something more vibrant? Also, do you have any favorite items or places that are blue?\n",
      "Human: My favorite animals are dogs\n",
      "AI: Dogs are wonderful companions! They’re known for their loyalty, playfulness, and the joy they bring to our lives. Do you have a specific breed of dog that you love the most? Some people adore Golden Retrievers for their friendly nature, while others might prefer the energetic and playful Beagle. Do you have a dog of your own, or is there a particular dog you’ve always wanted?\n",
      "Human: I like to drive a vespa scooter in the city\n",
      "AI: That sounds like a fantastic way to get around! Vespa scooters are not only stylish but also very practical for navigating through city traffic. They have a classic design that many people love, and they're great for zipping around tight corners and finding parking in crowded areas. Do you have a favorite route or spot in the city that you enjoy riding to? Also, what color is your Vespa? It's always fun to see how people personalize their scooters!\n",
      "Human: My favorite city is San Francisco\n",
      "AI:\u001b[0m\n",
      "\n",
      "\u001b[1m> Finished chain.\u001b[0m\n"
     ]
    },
    {
     "data": {
      "text/plain": [
       "{'input': 'My favorite city is San Francisco',\n",
       " 'history': \"Human: My favorite color is blue\\nAI: Blue is such a beautiful color! It often symbolizes calmness and tranquility, and it’s associated with the sky and the ocean. Do you have a particular shade of blue that you love the most, like navy, sky blue, or perhaps something more vibrant? Also, do you have any favorite items or places that are blue?\\nHuman: My favorite animals are dogs\\nAI: Dogs are wonderful companions! They’re known for their loyalty, playfulness, and the joy they bring to our lives. Do you have a specific breed of dog that you love the most? Some people adore Golden Retrievers for their friendly nature, while others might prefer the energetic and playful Beagle. Do you have a dog of your own, or is there a particular dog you’ve always wanted?\\nHuman: I like to drive a vespa scooter in the city\\nAI: That sounds like a fantastic way to get around! Vespa scooters are not only stylish but also very practical for navigating through city traffic. They have a classic design that many people love, and they're great for zipping around tight corners and finding parking in crowded areas. Do you have a favorite route or spot in the city that you enjoy riding to? Also, what color is your Vespa? It's always fun to see how people personalize their scooters!\",\n",
       " 'response': 'San Francisco is such a vibrant and iconic city! Known for its stunning views, unique neighborhoods, and rich history, it has so much to offer. The Golden Gate Bridge is a must-see, and the hilly streets provide some of the most picturesque views. Do you have a favorite neighborhood in San Francisco, like the bustling Fisherman’s Wharf, the eclectic Haight-Ashbury, or perhaps the artistic Mission District? Also, do you enjoy any specific activities there, like visiting museums, trying local food, or exploring the parks?'}"
      ]
     },
     "execution_count": 26,
     "metadata": {},
     "output_type": "execute_result"
    }
   ],
   "source": [
    "conversation_window({\"input\": \"My favorite city is San Francisco\"})"
   ]
  },
  {
   "cell_type": "code",
   "execution_count": 27,
   "id": "f48d77d2-015c-47e1-847e-22c11e2aec0c",
   "metadata": {},
   "outputs": [
    {
     "name": "stdout",
     "output_type": "stream",
     "text": [
      "\n",
      "\n",
      "\u001b[1m> Entering new ConversationChain chain...\u001b[0m\n",
      "Prompt after formatting:\n",
      "\u001b[32;1m\u001b[1;3mThe following is a friendly conversation between a human and an AI. The AI is talkative and provides lots of specific details from its context. If the AI does not know the answer to a question, it truthfully says it does not know.\n",
      "\n",
      "Current conversation:\n",
      "Human: My favorite animals are dogs\n",
      "AI: Dogs are wonderful companions! They’re known for their loyalty, playfulness, and the joy they bring to our lives. Do you have a specific breed of dog that you love the most? Some people adore Golden Retrievers for their friendly nature, while others might prefer the energetic and playful Beagle. Do you have a dog of your own, or is there a particular dog you’ve always wanted?\n",
      "Human: I like to drive a vespa scooter in the city\n",
      "AI: That sounds like a fantastic way to get around! Vespa scooters are not only stylish but also very practical for navigating through city traffic. They have a classic design that many people love, and they're great for zipping around tight corners and finding parking in crowded areas. Do you have a favorite route or spot in the city that you enjoy riding to? Also, what color is your Vespa? It's always fun to see how people personalize their scooters!\n",
      "Human: My favorite city is San Francisco\n",
      "AI: San Francisco is such a vibrant and iconic city! Known for its stunning views, unique neighborhoods, and rich history, it has so much to offer. The Golden Gate Bridge is a must-see, and the hilly streets provide some of the most picturesque views. Do you have a favorite neighborhood in San Francisco, like the bustling Fisherman’s Wharf, the eclectic Haight-Ashbury, or perhaps the artistic Mission District? Also, do you enjoy any specific activities there, like visiting museums, trying local food, or exploring the parks?\n",
      "Human: Do you know my name\n",
      "AI:\u001b[0m\n",
      "\n",
      "\u001b[1m> Finished chain.\u001b[0m\n"
     ]
    },
    {
     "data": {
      "text/plain": [
       "{'input': 'Do you know my name',\n",
       " 'history': \"Human: My favorite animals are dogs\\nAI: Dogs are wonderful companions! They’re known for their loyalty, playfulness, and the joy they bring to our lives. Do you have a specific breed of dog that you love the most? Some people adore Golden Retrievers for their friendly nature, while others might prefer the energetic and playful Beagle. Do you have a dog of your own, or is there a particular dog you’ve always wanted?\\nHuman: I like to drive a vespa scooter in the city\\nAI: That sounds like a fantastic way to get around! Vespa scooters are not only stylish but also very practical for navigating through city traffic. They have a classic design that many people love, and they're great for zipping around tight corners and finding parking in crowded areas. Do you have a favorite route or spot in the city that you enjoy riding to? Also, what color is your Vespa? It's always fun to see how people personalize their scooters!\\nHuman: My favorite city is San Francisco\\nAI: San Francisco is such a vibrant and iconic city! Known for its stunning views, unique neighborhoods, and rich history, it has so much to offer. The Golden Gate Bridge is a must-see, and the hilly streets provide some of the most picturesque views. Do you have a favorite neighborhood in San Francisco, like the bustling Fisherman’s Wharf, the eclectic Haight-Ashbury, or perhaps the artistic Mission District? Also, do you enjoy any specific activities there, like visiting museums, trying local food, or exploring the parks?\",\n",
       " 'response': \"I don't know your name yet! But I'd love to know it if you'd like to share. It can make our conversation feel even more personal! What should I call you?\"}"
      ]
     },
     "execution_count": 27,
     "metadata": {},
     "output_type": "execute_result"
    }
   ],
   "source": [
    "conversation_window({\"input\": \"Do you know my name\"})"
   ]
  },
  {
   "cell_type": "code",
   "execution_count": 28,
   "id": "7a205a78-815c-473e-bd26-99f8ed6faa21",
   "metadata": {},
   "outputs": [],
   "source": [
    "from langchain.memory import ConversationTokenBufferMemory"
   ]
  },
  {
   "cell_type": "code",
   "execution_count": 29,
   "id": "abdb763a-4f16-4d86-9331-8862e46d8d7e",
   "metadata": {},
   "outputs": [],
   "source": [
    "token_memory = ConversationTokenBufferMemory(\n",
    "    llm=llm,\n",
    "    max_token_limit=50\n",
    ")"
   ]
  },
  {
   "cell_type": "code",
   "execution_count": 30,
   "id": "7b77e306-01ab-429f-bd2f-626a27365241",
   "metadata": {},
   "outputs": [],
   "source": [
    "conversation_token = ConversationChain(\n",
    "    llm=llm, \n",
    "    memory = token_memory,\n",
    "    verbose=True\n",
    ")"
   ]
  },
  {
   "cell_type": "code",
   "execution_count": 31,
   "id": "22c3489a-7f35-4c55-a051-2e1f7d1822c1",
   "metadata": {},
   "outputs": [],
   "source": [
    "from langchain.memory import ConversationSummaryBufferMemory\n",
    "summary_memory = ConversationSummaryBufferMemory(\n",
    "    llm=llm,\n",
    "    max_token_limit=100\n",
    ")"
   ]
  },
  {
   "cell_type": "code",
   "execution_count": 32,
   "id": "be4cd6d5-350e-4d19-862d-8f957320b328",
   "metadata": {},
   "outputs": [],
   "source": [
    "conversation_summary = ConversationChain(\n",
    "    llm=llm, \n",
    "    memory = summary_memory,\n",
    "    verbose=True\n",
    ")"
   ]
  },
  {
   "cell_type": "code",
   "execution_count": 33,
   "id": "2f74ed3e-0f9e-46a4-bddc-113425fe234f",
   "metadata": {},
   "outputs": [
    {
     "name": "stdout",
     "output_type": "stream",
     "text": [
      "\n",
      "\n",
      "\u001b[1m> Entering new ConversationChain chain...\u001b[0m\n",
      "Prompt after formatting:\n",
      "\u001b[32;1m\u001b[1;3mThe following is a friendly conversation between a human and an AI. The AI is talkative and provides lots of specific details from its context. If the AI does not know the answer to a question, it truthfully says it does not know.\n",
      "\n",
      "Current conversation:\n",
      "\n",
      "Human: Kurt Cobain dropped out of high school, \n",
      "then worked there as a janitor Even though he was by all accounts a slob, \n",
      "Kurt Cobain worked as a janitor at Weatherwax High School, not long after \n",
      "dropping out of that very school. The dancing janitor in the \n",
      "\"Smells Like Teen Spirit\" music video was an inside joke for \n",
      "those who knew of Cobain's old job.\n",
      "\n",
      "AI:\u001b[0m\n",
      "\n",
      "\u001b[1m> Finished chain.\u001b[0m\n"
     ]
    },
    {
     "data": {
      "text/plain": [
       "{'input': 'Kurt Cobain dropped out of high school, \\nthen worked there as a janitor Even though he was by all accounts a slob, \\nKurt Cobain worked as a janitor at Weatherwax High School, not long after \\ndropping out of that very school. The dancing janitor in the \\n\"Smells Like Teen Spirit\" music video was an inside joke for \\nthose who knew of Cobain\\'s old job.\\n',\n",
       " 'history': '',\n",
       " 'response': 'That\\'s right! Kurt Cobain did have a brief stint as a janitor at Weatherwax High School in Aberdeenshire, Washington, after dropping out. It\\'s quite interesting how life can come full circle; he ended up referencing that experience in a way that resonated with many of his fans. The \"Smells Like Teen Spirit\" music video does have that iconic scene with the dancing janitor, which adds a layer of irony considering Cobain\\'s own background. The video was directed by Samuel Bayer and became a defining moment for the grunge movement. Cobain\\'s rebellious spirit and unique sense of humor definitely shine through in that decision to include an inside joke like that! Do you have a favorite Nirvana song?'}"
      ]
     },
     "execution_count": 33,
     "metadata": {},
     "output_type": "execute_result"
    }
   ],
   "source": [
    "conversation_summary({\"input\": \"\"\"Kurt Cobain dropped out of high school, \n",
    "then worked there as a janitor Even though he was by all accounts a slob, \n",
    "Kurt Cobain worked as a janitor at Weatherwax High School, not long after \n",
    "dropping out of that very school. The dancing janitor in the \n",
    "\"Smells Like Teen Spirit\" music video was an inside joke for \n",
    "those who knew of Cobain's old job.\n",
    "\"\"\"})"
   ]
  },
  {
   "cell_type": "code",
   "execution_count": 34,
   "id": "72b753c1-39d2-40da-99ce-1902e9c7fb4e",
   "metadata": {},
   "outputs": [
    {
     "name": "stdout",
     "output_type": "stream",
     "text": [
      "\n",
      "\n",
      "\u001b[1m> Entering new ConversationChain chain...\u001b[0m\n",
      "Prompt after formatting:\n",
      "\u001b[32;1m\u001b[1;3mThe following is a friendly conversation between a human and an AI. The AI is talkative and provides lots of specific details from its context. If the AI does not know the answer to a question, it truthfully says it does not know.\n",
      "\n",
      "Current conversation:\n",
      "System: The human discusses Kurt Cobain's brief time as a janitor at Weatherwax High School after dropping out and mentions the dancing janitor in the \"Smells Like Teen Spirit\" music video as an inside joke related to Cobain's past. The AI confirms this, noting how Cobain's experience as a janitor resonates with fans and adds irony to the music video, directed by Samuel Bayer, which became pivotal for the grunge movement. The AI highlights Cobain's rebellious spirit and humor in incorporating such an inside joke and asks if the human has a favorite Nirvana song.\n",
      "Human: \n",
      "There were at least five different drummers in the band \n",
      "before Dave Grohl. Cobain and Novoselic were always members \n",
      "of Nirvana—formerly known as Skid Row, Pen Cap Chew, Bliss, \n",
      "and Ted Ed Fred—but finding a permanent drummer proved to be \n",
      "even harder than coming up with a decent band name. In the \n",
      "beginning, there was trivia answer Aaron Burckhard, who pissed \n",
      "off Cobain by getting Kurt's car impounded after being arrested \n",
      "for fighting with a police officer. Then there was Melvins \n",
      "drummer Dale Crover, who pounded the skins for Cobain and \n",
      "Novoselic on their first demo tape before moving to San Francisco. \n",
      "Next came Dave Foster, who got arrested for assaulting the \n",
      "son of the mayor of Cosmopolis, Washington. Burckhard briefly \n",
      "returned before announcing he was too hungover to practice one day. \n",
      "Then a mutual friend introduced Cobain and Novoselic to Chad \n",
      "Channing, who hung around for two years before the group's \n",
      "co-founders decided he wasn't cutting it anymore. Mudhoney \n",
      "drummer Dan Peters played on the \"Sliver\" single.\n",
      "\n",
      "AI:\u001b[0m\n",
      "\n",
      "\u001b[1m> Finished chain.\u001b[0m\n"
     ]
    },
    {
     "data": {
      "text/plain": [
       "{'input': '\\nThere were at least five different drummers in the band \\nbefore Dave Grohl. Cobain and Novoselic were always members \\nof Nirvana—formerly known as Skid Row, Pen Cap Chew, Bliss, \\nand Ted Ed Fred—but finding a permanent drummer proved to be \\neven harder than coming up with a decent band name. In the \\nbeginning, there was trivia answer Aaron Burckhard, who pissed \\noff Cobain by getting Kurt\\'s car impounded after being arrested \\nfor fighting with a police officer. Then there was Melvins \\ndrummer Dale Crover, who pounded the skins for Cobain and \\nNovoselic on their first demo tape before moving to San Francisco. \\nNext came Dave Foster, who got arrested for assaulting the \\nson of the mayor of Cosmopolis, Washington. Burckhard briefly \\nreturned before announcing he was too hungover to practice one day. \\nThen a mutual friend introduced Cobain and Novoselic to Chad \\nChanning, who hung around for two years before the group\\'s \\nco-founders decided he wasn\\'t cutting it anymore. Mudhoney \\ndrummer Dan Peters played on the \"Sliver\" single.\\n',\n",
       " 'history': 'System: The human discusses Kurt Cobain\\'s brief time as a janitor at Weatherwax High School after dropping out and mentions the dancing janitor in the \"Smells Like Teen Spirit\" music video as an inside joke related to Cobain\\'s past. The AI confirms this, noting how Cobain\\'s experience as a janitor resonates with fans and adds irony to the music video, directed by Samuel Bayer, which became pivotal for the grunge movement. The AI highlights Cobain\\'s rebellious spirit and humor in incorporating such an inside joke and asks if the human has a favorite Nirvana song.',\n",
       " 'response': 'Absolutely! The history of Nirvana\\'s lineup is quite fascinating, especially when you consider the revolving door of drummers before Dave Grohl joined. Each of those early drummers brought their own unique style and challenges to the band, but it was Grohl who really solidified Nirvana\\'s sound. His powerful drumming and energy complemented Cobain\\'s songwriting perfectly, helping to propel them to fame.\\n\\nIt\\'s interesting to note how Cobain\\'s interactions with those early drummers often reflected his intense personality and the band\\'s tumultuous beginnings. For example, Aaron Burckhard\\'s car incident definitely didn\\'t help his standing with Cobain! And Chad Channing, although he contributed to some classic tracks like \"Lithium,\" ultimately didn\\'t fit the direction Cobain and Novoselic wanted to take the band.\\n\\nThe \"Sliver\" single featuring Dan Peters is a great example of how different styles influenced Nirvana\\'s sound during that early period. It really showcases the band\\'s punk roots! Do you have a favorite era of Nirvana or a particular album that resonates with you?'}"
      ]
     },
     "execution_count": 34,
     "metadata": {},
     "output_type": "execute_result"
    }
   ],
   "source": [
    "conversation_summary({\"input\": \"\"\"\n",
    "There were at least five different drummers in the band \n",
    "before Dave Grohl. Cobain and Novoselic were always members \n",
    "of Nirvana—formerly known as Skid Row, Pen Cap Chew, Bliss, \n",
    "and Ted Ed Fred—but finding a permanent drummer proved to be \n",
    "even harder than coming up with a decent band name. In the \n",
    "beginning, there was trivia answer Aaron Burckhard, who pissed \n",
    "off Cobain by getting Kurt's car impounded after being arrested \n",
    "for fighting with a police officer. Then there was Melvins \n",
    "drummer Dale Crover, who pounded the skins for Cobain and \n",
    "Novoselic on their first demo tape before moving to San Francisco. \n",
    "Next came Dave Foster, who got arrested for assaulting the \n",
    "son of the mayor of Cosmopolis, Washington. Burckhard briefly \n",
    "returned before announcing he was too hungover to practice one day. \n",
    "Then a mutual friend introduced Cobain and Novoselic to Chad \n",
    "Channing, who hung around for two years before the group's \n",
    "co-founders decided he wasn't cutting it anymore. Mudhoney \n",
    "drummer Dan Peters played on the \"Sliver\" single.\n",
    "\"\"\"})"
   ]
  },
  {
   "cell_type": "code",
   "execution_count": 35,
   "id": "3b7a4d25-9f6e-4864-b12e-7dea03b0d73e",
   "metadata": {},
   "outputs": [
    {
     "name": "stdout",
     "output_type": "stream",
     "text": [
      "System: The human discusses the various drummers who were part of Nirvana before Dave Grohl, detailing their challenges and quirks, including incidents like Aaron Burckhard's car impoundment and the brief contributions of other drummers like Dale Crover and Chad Channing. The AI finds the history of Nirvana's lineup fascinating and notes how each drummer brought unique styles, with Grohl ultimately solidifying their sound and aiding in their rise to fame. The AI also reflects on how Cobain's interactions with these drummers mirrored his intense personality and the band's tumultuous beginnings, while asking the human about their favorite era or album of Nirvana.\n"
     ]
    }
   ],
   "source": [
    "print(summary_memory.buffer)"
   ]
  },
  {
   "cell_type": "markdown",
   "id": "d2704631-2d0d-48a1-ad62-77e759fb0c20",
   "metadata": {},
   "source": [
    "Chat History"
   ]
  },
  {
   "cell_type": "code",
   "execution_count": 36,
   "id": "15d0075b-9ea0-4189-90ce-2c50e1bb80ce",
   "metadata": {},
   "outputs": [],
   "source": [
    "from langchain.memory import ChatMessageHistory\n",
    "\n",
    "history = ChatMessageHistory()\n",
    "\n",
    "history.add_user_message(\"hi!\")\n",
    "\n",
    "history.add_ai_message(\"whats up?\")"
   ]
  },
  {
   "cell_type": "code",
   "execution_count": 37,
   "id": "63008c14-fdf0-4beb-8e84-56045e08080d",
   "metadata": {},
   "outputs": [
    {
     "data": {
      "text/plain": [
       "[HumanMessage(content='hi!'), AIMessage(content='whats up?')]"
      ]
     },
     "execution_count": 37,
     "metadata": {},
     "output_type": "execute_result"
    }
   ],
   "source": [
    "history.messages"
   ]
  },
  {
   "cell_type": "code",
   "execution_count": null,
   "id": "314199f5-f080-4d9d-bd31-58f4f181a11a",
   "metadata": {},
   "outputs": [],
   "source": []
  }
 ],
 "metadata": {
  "kernelspec": {
   "display_name": "Python 3 (ipykernel)",
   "language": "python",
   "name": "python3"
  },
  "language_info": {
   "codemirror_mode": {
    "name": "ipython",
    "version": 3
   },
   "file_extension": ".py",
   "mimetype": "text/x-python",
   "name": "python",
   "nbconvert_exporter": "python",
   "pygments_lexer": "ipython3",
   "version": "3.10.12"
  }
 },
 "nbformat": 4,
 "nbformat_minor": 5
}
