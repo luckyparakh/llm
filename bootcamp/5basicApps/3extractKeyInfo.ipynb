{
 "cells": [
  {
   "cell_type": "code",
   "execution_count": 10,
   "metadata": {},
   "outputs": [],
   "source": [
    "from dotenv import load_dotenv,find_dotenv\n",
    "_ = load_dotenv(find_dotenv())\n",
    "from langchain_openai import ChatOpenAI\n",
    "\n",
    "chatbot = ChatOpenAI(model=\"gpt-4o-mini\")"
   ]
  },
  {
   "cell_type": "code",
   "execution_count": 11,
   "metadata": {},
   "outputs": [],
   "source": [
    "from typing import Optional,List\n",
    "\n",
    "from langchain_core.pydantic_v1 import BaseModel, Field"
   ]
  },
  {
   "cell_type": "code",
   "execution_count": 12,
   "metadata": {},
   "outputs": [],
   "source": [
    "\n",
    "\n",
    "\n",
    "class Person(BaseModel):\n",
    "    \"\"\"\n",
    "    Person model representing an individual's basic information.\n",
    "    Attributes:\n",
    "        country (Optional[str]): Name of the country person belongs to.\n",
    "        lastname (Optional[str]): Last name of the person.\n",
    "        firstname (Optional[str]): First name of the person.\n",
    "    \"\"\"\n",
    "    \n",
    "    country: Optional[str] = Field(None, description=\"Name of the country person belongs to\")\n",
    "    lastname: Optional[str] = Field(None, description=\"Last name of the person\")\n",
    "    firstname: Optional[str] = Field(None, description=\"First name of the person\")\n",
    "\n",
    "class Persons(BaseModel):\n",
    "    \"\"\"\n",
    "    Persons model representing a list of persons.\n",
    "    Attributes:\n",
    "        persons (List[Person]): List of persons.\n",
    "    \"\"\"\n",
    "    \n",
    "    persons: List[Person] = Field([], description=\"List of persons\")"
   ]
  },
  {
   "cell_type": "code",
   "execution_count": 13,
   "metadata": {},
   "outputs": [],
   "source": [
    "from langchain_core.prompts import ChatPromptTemplate\n",
    "\n",
    "prompt=ChatPromptTemplate.from_messages([\n",
    "    (\"system\",\n",
    "     \"You are expert extraction specialist. You have been hired by a company to extract information from given text. You have to extract the name, last name and first name of each person. If any attribute is not present return null for that attribute.\",\n",
    "     ),\n",
    "    (\"human\",\"{text}\"),\n",
    "])\n",
    "cb= prompt| chatbot.with_structured_output(schema=Person)"
   ]
  },
  {
   "cell_type": "code",
   "execution_count": 14,
   "metadata": {},
   "outputs": [
    {
     "data": {
      "text/plain": [
       "Person(country='USA', lastname='Johnson', firstname='Sarah')"
      ]
     },
     "execution_count": 14,
     "metadata": {},
     "output_type": "execute_result"
    }
   ],
   "source": [
    "comment = \"I absolutely love this product! It's been a game-changer for my daily routine. The quality is top-notch and the customer service is outstanding. I've recommended it to all my friends and family. - Sarah Johnson, USA\"\n",
    "cb.invoke({\"text\":comment})"
   ]
  },
  {
   "cell_type": "code",
   "execution_count": 15,
   "metadata": {},
   "outputs": [
    {
     "data": {
      "text/plain": [
       "Persons(persons=[Person(country='Canada', lastname='Johnson', firstname='Alice'), Person(country='USA', lastname='Smith', firstname='Bob')])"
      ]
     },
     "execution_count": 15,
     "metadata": {},
     "output_type": "execute_result"
    }
   ],
   "source": [
    "chain_list = prompt | chatbot.with_structured_output(schema=Persons)\n",
    "text_input = \"\"\"\n",
    "Alice Johnson from Canada recently reviewed a book she loved. Meanwhile, Bob Smith from the USA shared his insights on the same book in a different review. Both reviews were very insightful.\n",
    "\"\"\"\n",
    "\n",
    "# Invoke the processing chain on the text\n",
    "chain_list.invoke({\"text\": text_input})"
   ]
  },
  {
   "cell_type": "code",
   "execution_count": null,
   "metadata": {},
   "outputs": [],
   "source": []
  }
 ],
 "metadata": {
  "kernelspec": {
   "display_name": "venv",
   "language": "python",
   "name": "python3"
  },
  "language_info": {
   "codemirror_mode": {
    "name": "ipython",
    "version": 3
   },
   "file_extension": ".py",
   "mimetype": "text/x-python",
   "name": "python",
   "nbconvert_exporter": "python",
   "pygments_lexer": "ipython3",
   "version": "3.10.12"
  }
 },
 "nbformat": 4,
 "nbformat_minor": 2
}
