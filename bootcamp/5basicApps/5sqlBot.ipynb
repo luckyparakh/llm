{
 "cells": [
  {
   "cell_type": "code",
   "execution_count": 1,
   "metadata": {},
   "outputs": [],
   "source": [
    "from dotenv import load_dotenv,find_dotenv\n",
    "from typing import Optional,List\n",
    "\n",
    "from langchain_core.pydantic_v1 import BaseModel, Field\n",
    "_ = load_dotenv(find_dotenv())\n",
    "from langchain_openai import ChatOpenAI\n",
    "\n",
    "chatbot = ChatOpenAI(model=\"gpt-4o-mini\")"
   ]
  },
  {
   "cell_type": "code",
   "execution_count": 13,
   "metadata": {},
   "outputs": [
    {
     "name": "stdout",
     "output_type": "stream",
     "text": [
      "You are a SQLite expert. Given an input question, first create a syntactically correct SQLite query to run, then look at the results of the query and return the answer to the input question.\n",
      "Unless the user specifies in the question a specific number of examples to obtain, query for at most 5 results using the LIMIT clause as per SQLite. You can order the results to return the most informative data in the database.\n",
      "Never query for all columns from a table. You must query only the columns that are needed to answer the question. Wrap each column name in double quotes (\") to denote them as delimited identifiers.\n",
      "Pay attention to use only the column names you can see in the tables below. Be careful to not query for columns that do not exist. Also, pay attention to which column is in which table.\n",
      "Pay attention to use date('now') function to get the current date, if the question involves \"today\".\n",
      "\n",
      "Use the following format:\n",
      "\n",
      "Question: Question here\n",
      "SQLQuery: SQL Query to run\n",
      "SQLResult: Result of the SQLQuery\n",
      "Answer: Final answer here\n",
      "\n",
      "Only use the following tables:\n",
      "\u001b[33;1m\u001b[1;3m{table_info}\u001b[0m\n",
      "\n",
      "Question: \u001b[33;1m\u001b[1;3m{input}\u001b[0m\n"
     ]
    }
   ],
   "source": [
    "from langchain_community.utilities import SQLDatabase\n",
    "from langchain.chains import create_sql_query_chain\n",
    "db=SQLDatabase.from_uri(\"sqlite:///data/street_tree_db.sqlite\")\n",
    "write_chain=create_sql_query_chain(chatbot,db)\n",
    "write_chain.get_prompts()[0].pretty_print()\n",
    "# response"
   ]
  },
  {
   "cell_type": "code",
   "execution_count": 19,
   "metadata": {},
   "outputs": [
    {
     "name": "stdout",
     "output_type": "stream",
     "text": [
      "```sql\n",
      "SQLQuery: SELECT DISTINCT \"qSpecies\" FROM street_trees LIMIT 5;\n",
      "```\n"
     ]
    }
   ],
   "source": [
    "response = write_chain.invoke({\"question\": \"How many species of trees are in San Francisco?\"})\n",
    "print(response)"
   ]
  },
  {
   "cell_type": "code",
   "execution_count": 24,
   "metadata": {},
   "outputs": [
    {
     "name": "stdout",
     "output_type": "stream",
     "text": [
      " SELECT DISTINCT \"qSpecies\" FROM street_trees LIMIT 5;\n"
     ]
    },
    {
     "data": {
      "text/plain": [
       "'[(\"Arbutus \\'Marina\\' :: Hybrid Strawberry Tree\",), (\\'Afrocarpus gracilior :: Fern Pine\\',), (\"Thuja occidentalis \\'Emerald\\' :: Emerald Arborvitae\",), (\"Magnolia grandiflora \\'Little Gem\\' :: Little Gem Magnolia\",), (\\'Platanus x hispanica :: Sycamore: London Plane\\',)]'"
      ]
     },
     "execution_count": 24,
     "metadata": {},
     "output_type": "execute_result"
    }
   ],
   "source": [
    "cleaned_response = response.replace(\"```sql\\n\", \"\").replace(\"\\n```\", \"\").replace(\"SQLQuery:\",\"\")\n",
    "print(cleaned_response)\n",
    "db.run(cleaned_response)"
   ]
  },
  {
   "cell_type": "code",
   "execution_count": 33,
   "metadata": {},
   "outputs": [
    {
     "name": "stdout",
     "output_type": "stream",
     "text": [
      "SQLQuery: SELECT DISTINCT \"qSpecies\" FROM street_trees LIMIT 5;\n"
     ]
    },
    {
     "data": {
      "text/plain": [
       "' SELECT DISTINCT \"qSpecies\" FROM street_trees LIMIT 5;'"
      ]
     },
     "execution_count": 33,
     "metadata": {},
     "output_type": "execute_result"
    }
   ],
   "source": [
    "from operator import itemgetter\n",
    "from langchain_core.runnables import RunnablePassthrough, RunnableLambda\n",
    "def replace_sql_formatting(response: str) -> str:\n",
    "    print(response)\n",
    "    return response.replace(\"```sql\\n\", \"\").replace(\"\\n```\", \"\").replace(\"SQLQuery:\",\"\")\n",
    "chain_res= write_chain | RunnableLambda(replace_sql_formatting)\n",
    "chain_res.invoke({\"question\": \"How many species of trees are in San Francisco?\"})"
   ]
  },
  {
   "cell_type": "code",
   "execution_count": 52,
   "metadata": {},
   "outputs": [
    {
     "name": "stdout",
     "output_type": "stream",
     "text": [
      "```sql\n",
      "SELECT DISTINCT \"qSpecies\" FROM street_trees LIMIT 5;\n",
      "```\n",
      "{'question': 'How many species of trees are in San Francisco?', 'query': '```sql\\nSELECT DISTINCT \"qSpecies\" FROM street_trees LIMIT 5;\\n```', 'result': '[(\"Arbutus \\'Marina\\' :: Hybrid Strawberry Tree\",), (\\'Afrocarpus gracilior :: Fern Pine\\',), (\"Thuja occidentalis \\'Emerald\\' :: Emerald Arborvitae\",), (\"Magnolia grandiflora \\'Little Gem\\' :: Little Gem Magnolia\",), (\\'Platanus x hispanica :: Sycamore: London Plane\\',)]'}\n"
     ]
    }
   ],
   "source": [
    "from langchain_community.tools.sql_database.tool import QuerySQLDataBaseTool, QuerySQLCheckerTool\n",
    "\n",
    "execute_chain = QuerySQLDataBaseTool(db=db)\n",
    "check_chain = QuerySQLCheckerTool(db=db, llm=chatbot)\n",
    "'''\n",
    "RunnablePassthrough will add question, user input, as output and then assign will add query,output of WriteChain, to same output. Then itemgetter gets the query and pass it to RunnableLambda with replace_sql_formatting function. Then execute_chain is assigned to the output of RunnableLambda. And output of execute_chain is the final output & saved as result.\n",
    "'''\n",
    "chain = RunnablePassthrough.assign(query=write_chain).assign(result=itemgetter(\"query\") | RunnableLambda(replace_sql_formatting)|execute_chain)\n",
    "\n",
    "response = chain.invoke({\"question\": \"How many species of trees are in San Francisco?\"})\n",
    "print(response)"
   ]
  },
  {
   "cell_type": "code",
   "execution_count": 53,
   "metadata": {},
   "outputs": [
    {
     "name": "stdout",
     "output_type": "stream",
     "text": [
      "```sql\n",
      "SQLQuery: SELECT DISTINCT \"qSpecies\" FROM street_trees\n",
      "```\n",
      "There are 113 distinct species of trees in San Francisco.\n"
     ]
    }
   ],
   "source": [
    "from langchain_core.output_parsers import StrOutputParser\n",
    "from langchain_core.prompts import PromptTemplate\n",
    "answer_prompt = PromptTemplate.from_template(\n",
    "    \"\"\"Given the following user question, \n",
    "    corresponding SQL query, and SQL result, \n",
    "    answer the user question.\n",
    "\n",
    "Question: {question}\n",
    "SQL Query: {query}\n",
    "SQL Result: {result}\n",
    "Answer: \"\"\"\n",
    ")\n",
    "chat_chain = chain|answer_prompt|chatbot|StrOutputParser()\n",
    "# By default the limit is set to 5, hence asking to unset to it.\n",
    "response = chat_chain.invoke({\"question\": \"How many species of trees are in San Francisco? Do unset the default limit\"})\n",
    "print(response)"
   ]
  },
  {
   "cell_type": "markdown",
   "metadata": {},
   "source": [
    "Let's review what is happening in the above chain.\n",
    "The user asks a question (identified by the variable name \"question\").\n",
    "We use RunnablePassthrough to get that \"question\" variable, and we use .assign() twice to get the other two variables required by the prompt template: \"query\" and \"result\".\n",
    "With the first .assign(), the write_query chain has que question as input and the SQL query (identified by the variable name \"query\") as output.\n",
    "With the second .assign(), the execute_query chain has the SQL query as input and the SQL query execution (identified by the variable name \"result\") as output.\n",
    "The prompt template has the question (identified by the variable name \"question\"), the SQL query (identified by the variable name \"query\") and the SQL query execution (identified by the variable name \"result\") as input, and the final prompt as the output.\n",
    "The chat model has the prompt as he input and the AIMessage with the response in natural language as the output.\n",
    "The StrOutputParser has the AIMessage with the response in natural language as the input and the response in natural language as a string of text as the output."
   ]
  },
  {
   "cell_type": "code",
   "execution_count": null,
   "metadata": {},
   "outputs": [],
   "source": []
  }
 ],
 "metadata": {
  "kernelspec": {
   "display_name": "venv",
   "language": "python",
   "name": "python3"
  },
  "language_info": {
   "codemirror_mode": {
    "name": "ipython",
    "version": 3
   },
   "file_extension": ".py",
   "mimetype": "text/x-python",
   "name": "python",
   "nbconvert_exporter": "python",
   "pygments_lexer": "ipython3",
   "version": "3.10.12"
  }
 },
 "nbformat": 4,
 "nbformat_minor": 2
}
