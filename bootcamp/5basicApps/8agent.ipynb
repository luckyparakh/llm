{
 "cells": [
  {
   "cell_type": "code",
   "execution_count": 4,
   "metadata": {},
   "outputs": [],
   "source": [
    "from dotenv import load_dotenv,find_dotenv\n",
    "from typing import Optional,List\n",
    "\n",
    "from langchain_core.pydantic_v1 import BaseModel, Field\n",
    "_ = load_dotenv(find_dotenv())\n",
    "from langchain_openai import ChatOpenAI\n",
    "\n",
    "llm = ChatOpenAI(model=\"gpt-4o-mini\")"
   ]
  },
  {
   "cell_type": "code",
   "execution_count": 7,
   "metadata": {},
   "outputs": [
    {
     "data": {
      "text/plain": [
       "[{'url': 'https://talksport.com/football/1755223/euro-2024-best-players-cristiano-ronaldo-harry-kane-jude-bellingham-kylian-mbappe/',\n",
       "  'content': \"Kane is just one of the names of serious talent that are set to star at Euro 2024 Credit: Getty. Gareth Southgate's side face stiff competition though as World Cup finalists France remain one of ...\"},\n",
       " {'url': 'https://www.nbcsports.com/soccer/news/euro-2024-player-power-rankings-who-are-the-top-20-stars',\n",
       "  'content': 'Plus, every tournament there are always stars who emerge to make a name for themselves and players from Georgia and Austria are standing tall. Below are the top 20 players at EURO 2024 based on current form and we will update it throughout the tournament.'}]"
      ]
     },
     "execution_count": 7,
     "metadata": {},
     "output_type": "execute_result"
    }
   ],
   "source": [
    "from langchain_community.tools.tavily_search import TavilySearchResults\n",
    "search = TavilySearchResults(max_results=2)\n",
    "search.invoke(\"Who are the top stars of the 2024 Eurocup?\")"
   ]
  },
  {
   "cell_type": "code",
   "execution_count": 8,
   "metadata": {},
   "outputs": [],
   "source": [
    "tools=[search]\n",
    "# Can attach it to llm like below but normally it is not used\n",
    "llm_with_tools=llm.bind_tools(tools)"
   ]
  },
  {
   "cell_type": "code",
   "execution_count": 6,
   "metadata": {},
   "outputs": [],
   "source": [
    "# Create Agent\n",
    "from langgraph.prebuilt import create_react_agent\n",
    "\n",
    "agent_executor = create_react_agent(llm, tools)"
   ]
  },
  {
   "cell_type": "code",
   "execution_count": 9,
   "metadata": {},
   "outputs": [
    {
     "data": {
      "text/plain": [
       "{'messages': [HumanMessage(content='Who are the top stars of the 2024 Eurocup?', id='8a6f7921-202d-4292-9329-c2655d300f7b'),\n",
       "  AIMessage(content='', additional_kwargs={'tool_calls': [{'id': 'call_4R1DxgUnMeWpUgsND0gP8tbI', 'function': {'arguments': '{\"query\":\"top stars Eurocup 2024\"}', 'name': 'tavily_search_results_json'}, 'type': 'function'}]}, response_metadata={'token_usage': {'completion_tokens': 24, 'prompt_tokens': 92, 'total_tokens': 116, 'completion_tokens_details': {'reasoning_tokens': 0}, 'prompt_tokens_details': {'cached_tokens': 0}}, 'model_name': 'gpt-4o-mini-2024-07-18', 'system_fingerprint': 'fp_f85bea6784', 'finish_reason': 'tool_calls', 'logprobs': None}, id='run-62b3e120-4456-4501-9654-1d0d64522900-0', tool_calls=[{'name': 'tavily_search_results_json', 'args': {'query': 'top stars Eurocup 2024'}, 'id': 'call_4R1DxgUnMeWpUgsND0gP8tbI', 'type': 'tool_call'}], usage_metadata={'input_tokens': 92, 'output_tokens': 24, 'total_tokens': 116}),\n",
       "  ToolMessage(content='[{\"url\": \"https://www.nbcsports.com/soccer/news/euro-2024-player-power-rankings-who-are-the-top-20-stars\", \"content\": \"Plus, every tournament there are always stars who emerge to make a name for themselves and players from Georgia and Austria are standing tall. Below are the top 20 players at EURO 2024 based on current form and we will update it throughout the tournament.\"}, {\"url\": \"https://www.planetfootball.com/lists-and-rankings/euro-2024-player-of-the-tournament-power-ranking-kroos-bellingham\", \"content\": \"England will play Spain in the final of Euro 2024 and the Player of the Tournament award remains up for grabs. Gianluigi Donnarumma won the Player of the Tournament award last time out, following in the footsteps of Antoine Griezmann, Andres Iniesta, Xavi, Theodore Zagorakis, Zinedine Zidane and Matthias Sammer since the award officially being set up in 1996.\"}]', name='tavily_search_results_json', id='1c14243e-558d-46f3-8d2c-34b509b59299', tool_call_id='call_4R1DxgUnMeWpUgsND0gP8tbI'),\n",
       "  AIMessage(content='', additional_kwargs={'tool_calls': [{'id': 'call_M37CsBnXAyMEI3v3Qjil9ThG', 'function': {'arguments': '{\"query\":\"Euro 2024 top players list\"}', 'name': 'tavily_search_results_json'}, 'type': 'function'}]}, response_metadata={'token_usage': {'completion_tokens': 24, 'prompt_tokens': 345, 'total_tokens': 369, 'completion_tokens_details': {'reasoning_tokens': 0}, 'prompt_tokens_details': {'cached_tokens': 0}}, 'model_name': 'gpt-4o-mini-2024-07-18', 'system_fingerprint': 'fp_f85bea6784', 'finish_reason': 'tool_calls', 'logprobs': None}, id='run-547d7e1b-f8f8-4ad7-88c9-e9b6258be15f-0', tool_calls=[{'name': 'tavily_search_results_json', 'args': {'query': 'Euro 2024 top players list'}, 'id': 'call_M37CsBnXAyMEI3v3Qjil9ThG', 'type': 'tool_call'}], usage_metadata={'input_tokens': 345, 'output_tokens': 24, 'total_tokens': 369}),\n",
       "  ToolMessage(content='[{\"url\": \"https://www.nbcsports.com/soccer/news/euro-2024-player-power-rankings-who-are-the-top-20-stars\", \"content\": \"Below are the top 20 players at EURO 2024 based on current form and we will update it throughout the tournament. EURO 2024 player Power Rankings . 20. Giorgi Mamardashvili (Georgia) 19. Khvicha Kvaratskhelia (Georgia) 18. Hakan Calhanoglu (Turkey) 17. Lamine Yamal (Spain) 16. N\\'Golo Kante (France) 15. Jude Bellingham (England)\"}, {\"url\": \"https://www.thescore.com/fran/news/2919037\", \"content\": \"Ranking the 24 best players at Euro 2024. Gordon Brunt, Anthony Lopopolo, Daniel Rouse. 3mo ago. Getty. We\\'ve already compiled a list of the most notable players to miss out on Euro 2024. Now ...\"}]', name='tavily_search_results_json', id='ea88760c-f20b-4e76-aa15-47a06371a131', tool_call_id='call_M37CsBnXAyMEI3v3Qjil9ThG'),\n",
       "  AIMessage(content='', additional_kwargs={'tool_calls': [{'id': 'call_3poRDtzP1PZGJQDuLHj6Mz7f', 'function': {'arguments': '{\"query\":\"Euro 2024 player rankings top stars\"}', 'name': 'tavily_search_results_json'}, 'type': 'function'}]}, response_metadata={'token_usage': {'completion_tokens': 25, 'prompt_tokens': 605, 'total_tokens': 630, 'completion_tokens_details': {'reasoning_tokens': 0}, 'prompt_tokens_details': {'cached_tokens': 0}}, 'model_name': 'gpt-4o-mini-2024-07-18', 'system_fingerprint': 'fp_f85bea6784', 'finish_reason': 'tool_calls', 'logprobs': None}, id='run-c3a67e3d-dabe-4e9a-abd7-2355b7f127dc-0', tool_calls=[{'name': 'tavily_search_results_json', 'args': {'query': 'Euro 2024 player rankings top stars'}, 'id': 'call_3poRDtzP1PZGJQDuLHj6Mz7f', 'type': 'tool_call'}], usage_metadata={'input_tokens': 605, 'output_tokens': 25, 'total_tokens': 630}),\n",
       "  ToolMessage(content='[{\"url\": \"https://sporterm.com/football/euro-2024-player-power-rankings-who-are-the-top-20-stars/\", \"content\": \"Plus, every tournament there are always stars who emerge to make a name for themselves. Below are the top 20 players at EURO 2024 based on current form and we will update it throughout the tournament. EURO 2024 player Power Rankings. 20. Jan Oblak (Slovenia) 19. Eduardo Camavinga (France) 18. Gianluigi Donnarumma (Italy) 17. Federico Chiesa ...\"}, {\"url\": \"https://talksport.com/football/1740557/euro-2024-star-players-ranked-harry-kane-kylian-mbappe/\", \"content\": \"Harry Kane, Kylian Mbappe and Kevin De Bruyne aiming for Euro 2024 glory - Every country\\'s star player ranked from worst to best Charlie Carmichael , Head of Audience Published : 22:00, 4 Jun 2024\"}]', name='tavily_search_results_json', id='26a90a37-6d66-4d67-9c5f-4fdb100534ee', tool_call_id='call_3poRDtzP1PZGJQDuLHj6Mz7f'),\n",
       "  AIMessage(content='', additional_kwargs={'tool_calls': [{'id': 'call_3poRDtzP1PZGJQDuLHj6Mz7f', 'function': {'arguments': '{\"query\":\"Euro 2024 top players list June 2024\"}', 'name': 'tavily_search_results_json'}, 'type': 'function'}]}, response_metadata={'token_usage': {'completion_tokens': 28, 'prompt_tokens': 860, 'total_tokens': 888, 'completion_tokens_details': {'reasoning_tokens': 0}, 'prompt_tokens_details': {'cached_tokens': 0}}, 'model_name': 'gpt-4o-mini-2024-07-18', 'system_fingerprint': 'fp_f85bea6784', 'finish_reason': 'tool_calls', 'logprobs': None}, id='run-31f0c65c-f0e6-4416-ba32-04a3c2328202-0', tool_calls=[{'name': 'tavily_search_results_json', 'args': {'query': 'Euro 2024 top players list June 2024'}, 'id': 'call_3poRDtzP1PZGJQDuLHj6Mz7f', 'type': 'tool_call'}], usage_metadata={'input_tokens': 860, 'output_tokens': 28, 'total_tokens': 888}),\n",
       "  ToolMessage(content='[{\"url\": \"https://www.nbcsports.com/soccer/news/euro-2024-player-power-rankings-who-are-the-top-20-stars\", \"content\": \"We rank the top 20 players at EURO 2024 based on current form, and will update it throughout the tournament. Skip navigation. Search Query Submit Search. MLB. NFL. NBA. NHL. ... Published June 27, 2024 12:29 PM. Facebook; Twitter; Email EURO 2024 will be a very special tournament with superstars colliding across Germany.\"}, {\"url\": \"https://www.thescore.com/fran/news/2919037\", \"content\": \"Ranking the 24 best players at Euro 2024. Gordon Brunt, Anthony Lopopolo, Daniel Rouse. 3mo ago. Getty. We\\'ve already compiled a list of the most notable players to miss out on Euro 2024. Now ...\"}]', name='tavily_search_results_json', id='3e233764-59b6-4955-99ef-ed46e36b95cd', tool_call_id='call_3poRDtzP1PZGJQDuLHj6Mz7f'),\n",
       "  AIMessage(content=\"As of now, here are some of the top stars expected to shine in the **2024 Eurocup**:\\n\\n1. **Harry Kane (England)** - The captain and star striker for England, Kane is known for his goal-scoring ability and leadership on the field.\\n2. **Kylian Mbappe (France)** - A young superstar with incredible speed and skill, Mbappe is a key player for the French national team.\\n3. **Kevin De Bruyne (Belgium)** - One of the best midfielders in the world, De Bruyne's vision and passing make him a crucial player for Belgium.\\n4. **Jude Bellingham (England)** - The young midfielder has emerged as a vital player for England, showcasing his talent at both club and international levels.\\n5. **Gianluigi Donnarumma (Italy)** - The goalkeeper for Italy, known for his shot-stopping abilities and composure under pressure.\\n6. **N'Golo Kante (France)** - A midfield dynamo for France, Kante is known for his tireless work rate and defensive skills.\\n7. **Federico Chiesa (Italy)** - An exciting winger who can change the course of a game with his pace and creativity.\\n8. **Hakan Calhanoglu (Turkey)** - A talented midfielder known for his set-piece abilities and playmaking skills.\\n9. **Khvicha Kvaratskhelia (Georgia)** - A rising star who has gained attention for his performances and skills.\\n10. **Lamine Yamal (Spain)** - A young talent making waves in Spanish football with his impressive performances.\\n\\nFor a detailed ranking and more players, you can check out the full list from [NBC Sports](https://www.nbcsports.com/soccer/news/euro-2024-player-power-rankings-who-are-the-top-20-stars).\", response_metadata={'token_usage': {'completion_tokens': 385, 'prompt_tokens': 1098, 'total_tokens': 1483, 'completion_tokens_details': {'reasoning_tokens': 0}, 'prompt_tokens_details': {'cached_tokens': 0}}, 'model_name': 'gpt-4o-mini-2024-07-18', 'system_fingerprint': 'fp_f85bea6784', 'finish_reason': 'stop', 'logprobs': None}, id='run-dafd9e38-2b37-4c47-9d89-40ffe36c49e6-0', usage_metadata={'input_tokens': 1098, 'output_tokens': 385, 'total_tokens': 1483})]}"
      ]
     },
     "execution_count": 9,
     "metadata": {},
     "output_type": "execute_result"
    }
   ],
   "source": [
    "agent_executor.invoke({\"messages\": \"Who are the top stars of the 2024 Eurocup?\"})"
   ]
  },
  {
   "cell_type": "code",
   "execution_count": 10,
   "metadata": {},
   "outputs": [
    {
     "data": {
      "text/plain": [
       "[HumanMessage(content='Where is the soccer Eurocup 2024 played?', id='0ff2000d-3b66-4cea-ba64-d2ecd38b1090'),\n",
       " AIMessage(content='', additional_kwargs={'tool_calls': [{'id': 'call_mYfhWKkA6IbZPgYpBQOI2zM1', 'function': {'arguments': '{\"query\":\"Eurocup 2024 location\"}', 'name': 'tavily_search_results_json'}, 'type': 'function'}]}, response_metadata={'token_usage': {'completion_tokens': 23, 'prompt_tokens': 90, 'total_tokens': 113, 'completion_tokens_details': {'reasoning_tokens': 0}, 'prompt_tokens_details': {'cached_tokens': 0}}, 'model_name': 'gpt-4o-mini-2024-07-18', 'system_fingerprint': 'fp_74ba47b4ac', 'finish_reason': 'tool_calls', 'logprobs': None}, id='run-bd9b4eef-5091-42fc-b277-18a38421684a-0', tool_calls=[{'name': 'tavily_search_results_json', 'args': {'query': 'Eurocup 2024 location'}, 'id': 'call_mYfhWKkA6IbZPgYpBQOI2zM1', 'type': 'tool_call'}], usage_metadata={'input_tokens': 90, 'output_tokens': 23, 'total_tokens': 113}),\n",
       " ToolMessage(content='[{\"url\": \"https://olympics.com/en/news/uefa-euro-2024-venues-complete-list-when-where-final-opening-game\", \"content\": \"UEFA EURO 2024 will be held in Germany across June and July, with 10 host cities staging the major football tournament. It all begins in Munich on June 14, when hosts Germany take on Scotland in the tournament\\'s opening game at Bayern Munich\\'s stadium. The final takes place a month later on July 14 at Olympiastadion Berlin in the German ...\"}, {\"url\": \"https://www.uefa.com/euro2024/news/0259-0e6c745c7c3f-ef92e8344014-1000--where-will-euro-2024-take-place/\", \"content\": \"Where will EURO 2024 take place?\\\\nFriday, January 10, 2020\\\\nArticle summary\\\\nGermany stages UEFA EURO 2024 but can you name the ten host cities and stadiums?\\\\nArticle top media content\\\\nArticle body\\\\nThere are ten venues confirmed for UEFA EURO 2024 in Germany.\\\\n Berlin: Olympiastadion Berlin (current capacity: 70,000) Cologne: Cologne Stadium (47,000) Dortmund: BVB Stadion Dortmund (66,000) Dusseldorf: Düsseldorf Arena (47,000) Frankfurt: Frankfurt Arena (46,000) Gelsenkirchen: Arena AufSchalke (50,000) Hamburg: Volksparkstadion Hamburg (50,000) Leipzig: Leipzig Stadium (42,000) Munich: Munich Football Arena (67,000) Stuttgart: Stuttgart Arena (54,000)\\\\nBerlin\\'s Olympiastadion will stage the final on Sunday 14 July 2014.\\\\n Selected for you\\\\nYour in-depth guide to EURO\\\\nAlso visit\\\\nChange language\\\\nServices links and disclaimer\\\\n© 1998-2024 UEFA. Uniquely, the Munich Football Arena will stage a second EURO in succession; Bayern München’s home ground was one of 12 arenas picked as a host venue for UEFA EURO 2020.\\\\n Hosts Germany will feature in the opening game of UEFA EURO 2024 at the Munich Football Arena on Friday 14 June.\\\\n\"}]', name='tavily_search_results_json', id='c788224d-8d7b-43b8-b4cc-9fe53cacbb36', tool_call_id='call_mYfhWKkA6IbZPgYpBQOI2zM1'),\n",
       " AIMessage(content='The UEFA Eurocup 2024 will be held in Germany from June to July 2024. The tournament will feature matches in ten host cities, starting with the opening game in Munich on June 14, where Germany will face Scotland. The final will take place on July 14 at the Olympiastadion in Berlin. \\n\\nFor more details, you can check the official UEFA page [here](https://www.uefa.com/euro2024/news/0259-0e6c745c7c3f-ef92e8344014-1000--where-will-euro-2024-take-place/).', response_metadata={'token_usage': {'completion_tokens': 132, 'prompt_tokens': 594, 'total_tokens': 726, 'completion_tokens_details': {'reasoning_tokens': 0}, 'prompt_tokens_details': {'cached_tokens': 0}}, 'model_name': 'gpt-4o-mini-2024-07-18', 'system_fingerprint': 'fp_f85bea6784', 'finish_reason': 'stop', 'logprobs': None}, id='run-055c18d3-45aa-4461-95ae-c021d7e7044b-0', usage_metadata={'input_tokens': 594, 'output_tokens': 132, 'total_tokens': 726})]"
      ]
     },
     "execution_count": 10,
     "metadata": {},
     "output_type": "execute_result"
    }
   ],
   "source": [
    "# For below query, it will use travily as query is of 2024 and gpt-mini model is trained till Oct'23\n",
    "from langchain_core.messages import HumanMessage\n",
    "\n",
    "response = agent_executor.invoke({\"messages\": [HumanMessage(content=\"Where is the soccer Eurocup 2024 played?\")]})\n",
    "\n",
    "response[\"messages\"]"
   ]
  },
  {
   "cell_type": "code",
   "execution_count": 11,
   "metadata": {},
   "outputs": [
    {
     "data": {
      "text/plain": [
       "[HumanMessage(content='When India got free from British Rule?', id='7c6003d2-bf9c-4252-b011-69fa17a44ce2'),\n",
       " AIMessage(content='India gained independence from British rule on August 15, 1947.', response_metadata={'token_usage': {'completion_tokens': 16, 'prompt_tokens': 87, 'total_tokens': 103, 'completion_tokens_details': {'reasoning_tokens': 0}, 'prompt_tokens_details': {'cached_tokens': 0}}, 'model_name': 'gpt-4o-mini-2024-07-18', 'system_fingerprint': 'fp_f85bea6784', 'finish_reason': 'stop', 'logprobs': None}, id='run-ffb5eb4b-e8ee-4400-a7e8-f3cf33ebfc16-0', usage_metadata={'input_tokens': 87, 'output_tokens': 16, 'total_tokens': 103})]"
      ]
     },
     "execution_count": 11,
     "metadata": {},
     "output_type": "execute_result"
    }
   ],
   "source": [
    "# for below query travily will not be used\n",
    "response = agent_executor.invoke({\"messages\": [HumanMessage(content=\"When India got free from British Rule?\")]})\n",
    "\n",
    "response[\"messages\"]"
   ]
  },
  {
   "cell_type": "code",
   "execution_count": 12,
   "metadata": {},
   "outputs": [
    {
     "name": "stdout",
     "output_type": "stream",
     "text": [
      "{'agent': {'messages': [AIMessage(content='', additional_kwargs={'tool_calls': [{'id': 'call_upcdeZyJPK1IdZmBj8yPzLlD', 'function': {'arguments': '{\"query\":\"top stars 2024 ICC Men\\'s World Cup\"}', 'name': 'tavily_search_results_json'}, 'type': 'function'}]}, response_metadata={'token_usage': {'completion_tokens': 26, 'prompt_tokens': 94, 'total_tokens': 120, 'completion_tokens_details': {'reasoning_tokens': 0}, 'prompt_tokens_details': {'cached_tokens': 0}}, 'model_name': 'gpt-4o-mini-2024-07-18', 'system_fingerprint': 'fp_f85bea6784', 'finish_reason': 'tool_calls', 'logprobs': None}, id='run-3efb4b77-8809-42f1-9272-3a2c40f5f848-0', tool_calls=[{'name': 'tavily_search_results_json', 'args': {'query': \"top stars 2024 ICC Men's World Cup\"}, 'id': 'call_upcdeZyJPK1IdZmBj8yPzLlD', 'type': 'tool_call'}], usage_metadata={'input_tokens': 94, 'output_tokens': 26, 'total_tokens': 120})]}}\n",
      "-----\n",
      "{'tools': {'messages': [ToolMessage(content='[{\"url\": \"https://www.espncricinfo.com/series/icc-men-s-t20-world-cup-2024-1411166/most-valuable-players\", \"content\": \"Take a look at Cricinfo\\'s Most Valuable Players for latest ICC Men\\'s T20 World Cup 2024 - ICC Men\\'s T20 World Cup. Matches (6) ... Top Run Scorers. Rahmanullah Gurbaz.\"}, {\"url\": \"https://www.icc-cricket.com/tournaments/t20cricketworldcup\", \"content\": \"Six Indian T20 World Cup stars named in team of the tournament ... ICC Men\\'s T20 World Cup, 2024. West Indies top Group C with a comprehensive win | Match Highlights | T20WC 2024. 18 June, 2024. New Zealand vs Papua New Guinea - Match 39 - 6/17/2024.\"}]', name='tavily_search_results_json', tool_call_id='call_upcdeZyJPK1IdZmBj8yPzLlD')]}}\n",
      "-----\n",
      "{'agent': {'messages': [AIMessage(content='', additional_kwargs={'tool_calls': [{'id': 'call_U7PVOwDtVB5qxdjxihEkf7hp', 'function': {'arguments': '{\"query\":\"2024 ICC Men\\'s World Cup player statistics top performers\"}', 'name': 'tavily_search_results_json'}, 'type': 'function'}]}, response_metadata={'token_usage': {'completion_tokens': 27, 'prompt_tokens': 321, 'total_tokens': 348, 'completion_tokens_details': {'reasoning_tokens': 0}, 'prompt_tokens_details': {'cached_tokens': 0}}, 'model_name': 'gpt-4o-mini-2024-07-18', 'system_fingerprint': 'fp_f85bea6784', 'finish_reason': 'tool_calls', 'logprobs': None}, id='run-d85b2770-4ebc-4d32-b36b-90484e6561d8-0', tool_calls=[{'name': 'tavily_search_results_json', 'args': {'query': \"2024 ICC Men's World Cup player statistics top performers\"}, 'id': 'call_U7PVOwDtVB5qxdjxihEkf7hp', 'type': 'tool_call'}], usage_metadata={'input_tokens': 321, 'output_tokens': 27, 'total_tokens': 348})]}}\n",
      "-----\n",
      "{'tools': {'messages': [ToolMessage(content='[{\"url\": \"https://www.espncricinfo.com/series/icc-men-s-t20-world-cup-2024-1411166/stats\", \"content\": \"Kagiso Rabada. SA, Rf. 340.59. Bowling Impact. Actual Wkts: 13. View full list. Take a look at all the ICC Men\\'s T20 World Cup 2024 Statistics. Discover T20 World Cup Statistics on player records ...\"}, {\"url\": \"https://www.cricbuzz.com/cricket-series/7476/icc-mens-t20-world-cup-2024/stats\", \"content\": \"8. 4. 145. 72.50. 157.61. 16. 2. Live statistics of the ICC Mens T20 World Cup 2024 including leading run scorers, top wicket takers, best averages etc on Cricbuzz.com.\"}]', name='tavily_search_results_json', tool_call_id='call_U7PVOwDtVB5qxdjxihEkf7hp')]}}\n",
      "-----\n",
      "{'agent': {'messages': [AIMessage(content='', additional_kwargs={'tool_calls': [{'id': 'call_lpNlstuZxIKvL9a5ZY4gWXlp', 'function': {'arguments': '{\"query\":\"2024 ICC Men\\'s World Cup top players and statistics\"}', 'name': 'tavily_search_results_json'}, 'type': 'function'}]}, response_metadata={'token_usage': {'completion_tokens': 27, 'prompt_tokens': 552, 'total_tokens': 579, 'completion_tokens_details': {'reasoning_tokens': 0}, 'prompt_tokens_details': {'cached_tokens': 0}}, 'model_name': 'gpt-4o-mini-2024-07-18', 'system_fingerprint': 'fp_f85bea6784', 'finish_reason': 'tool_calls', 'logprobs': None}, id='run-b39ca474-93f7-48b0-a99d-950b33791c67-0', tool_calls=[{'name': 'tavily_search_results_json', 'args': {'query': \"2024 ICC Men's World Cup top players and statistics\"}, 'id': 'call_lpNlstuZxIKvL9a5ZY4gWXlp', 'type': 'tool_call'}], usage_metadata={'input_tokens': 552, 'output_tokens': 27, 'total_tokens': 579})]}}\n",
      "-----\n",
      "{'tools': {'messages': [ToolMessage(content='[{\"url\": \"https://www.espncricinfo.com/series/icc-men-s-t20-world-cup-2024-1411166/stats\", \"content\": \"Kagiso Rabada. SA, Rf. 340.59. Bowling Impact. Actual Wkts: 13. View full list. Take a look at all the ICC Men\\'s T20 World Cup 2024 Statistics. Discover T20 World Cup Statistics on player records ...\"}, {\"url\": \"https://www.cricbuzz.com/cricket-series/7476/icc-mens-t20-world-cup-2024/stats\", \"content\": \"8. 4. 145. 72.50. 157.61. 16. 2. Live statistics of the ICC Mens T20 World Cup 2024 including leading run scorers, top wicket takers, best averages etc on Cricbuzz.com.\"}]', name='tavily_search_results_json', tool_call_id='call_lpNlstuZxIKvL9a5ZY4gWXlp')]}}\n",
      "-----\n",
      "{'agent': {'messages': [AIMessage(content=\"The top stars of the 2024 ICC Men's T20 World Cup include:\\n\\n1. **Rahmanullah Gurbaz** - Notable for being a top run-scorer.\\n2. **Kagiso Rabada** - A leading bowler with significant impact, taking 13 wickets.\\n\\nFor more detailed statistics, including leading run scorers and top wicket-takers, you can check out the following links:\\n- [ESPN Cricinfo Stats](https://www.espncricinfo.com/series/icc-men-s-t20-world-cup-2024-1411166/stats)\\n- [Cricbuzz Live Statistics](https://www.cricbuzz.com/cricket-series/7476/icc-mens-t20-world-cup-2024/stats)\\n\\nThese resources provide comprehensive insights into player performances during the tournament.\", response_metadata={'token_usage': {'completion_tokens': 172, 'prompt_tokens': 783, 'total_tokens': 955, 'completion_tokens_details': {'reasoning_tokens': 0}, 'prompt_tokens_details': {'cached_tokens': 0}}, 'model_name': 'gpt-4o-mini-2024-07-18', 'system_fingerprint': 'fp_f85bea6784', 'finish_reason': 'stop', 'logprobs': None}, id='run-7578f82e-37ea-4bef-b0e8-490eb7eb64f5-0', usage_metadata={'input_tokens': 783, 'output_tokens': 172, 'total_tokens': 955})]}}\n",
      "-----\n"
     ]
    }
   ],
   "source": [
    "for chunk in agent_executor.stream({\"messages\": \"Who are the top stars of the 2024 ICC Men World Cup?\"}):\n",
    "    print(chunk)\n",
    "    print(\"-----\")"
   ]
  },
  {
   "cell_type": "code",
   "execution_count": 1,
   "metadata": {},
   "outputs": [],
   "source": [
    "from langgraph.checkpoint.memory import MemorySaver\n",
    "\n",
    "memory = MemorySaver()"
   ]
  },
  {
   "cell_type": "code",
   "execution_count": 10,
   "metadata": {},
   "outputs": [],
   "source": [
    "from langgraph.prebuilt import create_react_agent\n",
    "agent_memory=create_react_agent(llm, tools, checkpointer=memory)\n",
    "config={\"configurable\":{\"thread_id\":\"001\"}}"
   ]
  },
  {
   "cell_type": "code",
   "execution_count": 13,
   "metadata": {},
   "outputs": [
    {
     "name": "stdout",
     "output_type": "stream",
     "text": [
      "{'agent': {'messages': [AIMessage(content='', additional_kwargs={'tool_calls': [{'id': 'call_M0HZsz79HMK0QWbmQa50X9rE', 'function': {'arguments': '{\"query\":\"2024 ICC Men\\'s T20 winner\"}', 'name': 'tavily_search_results_json'}, 'type': 'function'}]}, response_metadata={'token_usage': {'completion_tokens': 24, 'prompt_tokens': 90, 'total_tokens': 114, 'completion_tokens_details': {'reasoning_tokens': 0}, 'prompt_tokens_details': {'cached_tokens': 0}}, 'model_name': 'gpt-4o-mini-2024-07-18', 'system_fingerprint': 'fp_f85bea6784', 'finish_reason': 'tool_calls', 'logprobs': None}, id='run-d28cff85-6c3e-4adf-91db-7ca270a58df7-0', tool_calls=[{'name': 'tavily_search_results_json', 'args': {'query': \"2024 ICC Men's T20 winner\"}, 'id': 'call_M0HZsz79HMK0QWbmQa50X9rE', 'type': 'tool_call'}], usage_metadata={'input_tokens': 90, 'output_tokens': 24, 'total_tokens': 114})]}}\n",
      "----\n",
      "{'tools': {'messages': [ToolMessage(content='[{\"url\": \"https://en.wikipedia.org/wiki/2024_ICC_Men\\'s_T20_World_Cup_final\", \"content\": \"The 2024 ICC Men\\'s T20 World Cup final was a Twenty20 International cricket match played at Kensington Oval in Bridgetown, Barbados on 29 June 2024 to determine the winner of the 2024 ICC Men\\'s T20 World Cup. [1] [2] It was played between South Africa and India.[3]India defeated South Africa by 7 runs to win their second T20 World Cup title. [4] Virat Kohli was named Player of the Match for ...\"}, {\"url\": \"https://www.icc-cricket.com/tournaments/t20cricketworldcup/videos/india-script-stunning-title-win-match-highlights-sa-v-ind-t20wc-2024-final\", \"content\": \"ICC Men\\'s T20 World Cup, 2024. India script stunning title win | Match Highlights | SA v IND | T20WC 2024 Final. 29 June, 2024. Latest Videos. ICC Cricket World Cup, 2023. Power Performances presented by Aramco | Episode 3 | CWC 2023. 19 August, 2024. Cricket World Cup. Best of KL Rahul | CWC23.\"}]', name='tavily_search_results_json', tool_call_id='call_M0HZsz79HMK0QWbmQa50X9rE')]}}\n",
      "----\n",
      "{'agent': {'messages': [AIMessage(content=\"India won the 2024 ICC Men's T20 World Cup, defeating South Africa by 7 runs in the final held on June 29, 2024, at Kensington Oval in Bridgetown, Barbados. Virat Kohli was named Player of the Match. This victory marked India's second T20 World Cup title. \\n\\nFor more details, you can visit the [Wikipedia page](https://en.wikipedia.org/wiki/2024_ICC_Men's_T20_World_Cup_final).\", response_metadata={'token_usage': {'completion_tokens': 100, 'prompt_tokens': 397, 'total_tokens': 497, 'completion_tokens_details': {'reasoning_tokens': 0}, 'prompt_tokens_details': {'cached_tokens': 0}}, 'model_name': 'gpt-4o-mini-2024-07-18', 'system_fingerprint': 'fp_f85bea6784', 'finish_reason': 'stop', 'logprobs': None}, id='run-ee7eae22-d4fe-439b-a0bf-83ae8854260f-0', usage_metadata={'input_tokens': 397, 'output_tokens': 100, 'total_tokens': 497})]}}\n",
      "----\n"
     ]
    }
   ],
   "source": [
    "from langchain_core.messages import HumanMessage\n",
    "for chunk in agent_memory.stream(\n",
    "    {\"messages\": [HumanMessage(content=\"Who won the 2024 ICC Men T20?\")]}, config\n",
    "):\n",
    "    print(chunk)\n",
    "    print(\"----\")"
   ]
  },
  {
   "cell_type": "code",
   "execution_count": 14,
   "metadata": {},
   "outputs": [
    {
     "name": "stdout",
     "output_type": "stream",
     "text": [
      "{'agent': {'messages': [AIMessage(content='', additional_kwargs={'tool_calls': [{'id': 'call_ITOwRRdKjleDtAG1bFBcmBOA', 'function': {'arguments': '{\"query\":\"2024 ICC Men\\'s T20 World Cup India top players\"}', 'name': 'tavily_search_results_json'}, 'type': 'function'}]}, response_metadata={'token_usage': {'completion_tokens': 28, 'prompt_tokens': 512, 'total_tokens': 540, 'completion_tokens_details': {'reasoning_tokens': 0}, 'prompt_tokens_details': {'cached_tokens': 0}}, 'model_name': 'gpt-4o-mini-2024-07-18', 'system_fingerprint': 'fp_f85bea6784', 'finish_reason': 'tool_calls', 'logprobs': None}, id='run-e548d188-640f-41eb-8743-c8eb7fb91a3f-0', tool_calls=[{'name': 'tavily_search_results_json', 'args': {'query': \"2024 ICC Men's T20 World Cup India top players\"}, 'id': 'call_ITOwRRdKjleDtAG1bFBcmBOA', 'type': 'tool_call'}], usage_metadata={'input_tokens': 512, 'output_tokens': 28, 'total_tokens': 540})]}}\n",
      "----\n",
      "{'tools': {'messages': [ToolMessage(content='[{\"url\": \"https://www.icc-cricket.com/tournaments/t20cricketworldcup/news/six-indian-t20-world-cup-stars-named-in-team-of-the-tournament\", \"content\": \"Six players from the title-winning Indian squad have been named in the ICC Men\\'s T20 World Cup 2024 team of the tournament. Rohit Sharma. Runs: 257, Average: 36.71, Strike-rate: 156.7, Fifties: 3. Setting the tone at the top of the order, Rohit Sharma embraced India\\'s new approach in T20Is and showed the way with his brilliant ball striking.\"}, {\"url\": \"https://www.icc-cricket.com/tournaments/t20cricketworldcup\", \"content\": \"Latest Videos Match Highlights player-highlights Extended Highlights. ... ICC Men\\'s T20 World Cup, 2024. India boost semi-final chances | Match Highlights | IND v BAN | T20WC 2024. 22 June, 2024 ... ICC Men\\'s T20 World Cup, 2024. West Indies top Group C with a comprehensive win | Match Highlights | T20WC 2024. 18 June, 2024 ...\"}]', name='tavily_search_results_json', tool_call_id='call_ITOwRRdKjleDtAG1bFBcmBOA')]}}\n",
      "----\n",
      "{'agent': {'messages': [AIMessage(content=\"Several players from the Indian team were recognized for their outstanding performances in the 2024 ICC Men's T20 World Cup. Here are some of the top players:\\n\\n1. **Rohit Sharma**: He scored 257 runs in the tournament with an average of 36.71 and a strike rate of 156.7, including three fifties. He played a crucial role in setting the tone for India's innings.\\n\\nFor a complete list of the top players, you can check the [ICC announcement](https://www.icc-cricket.com/tournaments/t20cricketworldcup/news/six-indian-t20-world-cup-stars-named-in-team-of-the-tournament).\", response_metadata={'token_usage': {'completion_tokens': 140, 'prompt_tokens': 803, 'total_tokens': 943, 'completion_tokens_details': {'reasoning_tokens': 0}, 'prompt_tokens_details': {'cached_tokens': 0}}, 'model_name': 'gpt-4o-mini-2024-07-18', 'system_fingerprint': 'fp_f85bea6784', 'finish_reason': 'stop', 'logprobs': None}, id='run-47a6695a-9048-4ca4-8081-2ba2790e10d6-0', usage_metadata={'input_tokens': 803, 'output_tokens': 140, 'total_tokens': 943})]}}\n",
      "----\n"
     ]
    }
   ],
   "source": [
    "for chunk in agent_memory.stream(\n",
    "    {\"messages\": [HumanMessage(content=\"Who are top player in winning team?\")]}, config\n",
    "):\n",
    "    print(chunk)\n",
    "    print(\"----\")"
   ]
  },
  {
   "cell_type": "code",
   "execution_count": 16,
   "metadata": {},
   "outputs": [
    {
     "name": "stdout",
     "output_type": "stream",
     "text": [
      "{'agent': {'messages': [AIMessage(content='Could you please provide more context or details about the team you are referring to? This will help me assist you better.', response_metadata={'token_usage': {'completion_tokens': 25, 'prompt_tokens': 86, 'total_tokens': 111, 'completion_tokens_details': {'reasoning_tokens': 0}, 'prompt_tokens_details': {'cached_tokens': 0}}, 'model_name': 'gpt-4o-mini-2024-07-18', 'system_fingerprint': 'fp_f85bea6784', 'finish_reason': 'stop', 'logprobs': None}, id='run-2716ecb8-deae-4556-b819-1a045592ed32-0', usage_metadata={'input_tokens': 86, 'output_tokens': 25, 'total_tokens': 111})]}}\n",
      "----\n"
     ]
    }
   ],
   "source": [
    "config = {\"configurable\": {\"thread_id\": \"002\"}}\n",
    "for chunk in agent_memory.stream(\n",
    "    {\"messages\": [HumanMessage(content=\"About which team we were talking?\")]}, config\n",
    "):\n",
    "    print(chunk)\n",
    "    print(\"----\")"
   ]
  },
  {
   "cell_type": "code",
   "execution_count": null,
   "metadata": {},
   "outputs": [],
   "source": []
  }
 ],
 "metadata": {
  "kernelspec": {
   "display_name": "venv",
   "language": "python",
   "name": "python3"
  },
  "language_info": {
   "codemirror_mode": {
    "name": "ipython",
    "version": 3
   },
   "file_extension": ".py",
   "mimetype": "text/x-python",
   "name": "python",
   "nbconvert_exporter": "python",
   "pygments_lexer": "ipython3",
   "version": "3.10.12"
  }
 },
 "nbformat": 4,
 "nbformat_minor": 2
}
