{
 "cells": [
  {
   "cell_type": "code",
   "execution_count": 1,
   "metadata": {},
   "outputs": [],
   "source": [
    "from dotenv import load_dotenv,find_dotenv\n",
    "from typing import Optional,List\n",
    "\n",
    "from langchain_core.pydantic_v1 import BaseModel, Field\n",
    "_ = load_dotenv(find_dotenv())\n",
    "from langchain_openai import ChatOpenAI\n",
    "\n",
    "chatbot = ChatOpenAI(model=\"gpt-4o-mini\")\n"
   ]
  },
  {
   "cell_type": "code",
   "execution_count": 8,
   "metadata": {},
   "outputs": [],
   "source": [
    "class Classifier(BaseModel):\n",
    "    sentiment: Optional[str] = Field(None, description=\"Sentiment of the text\")\n",
    "    language: Optional[str] = Field(None, description=\"Language of the text\")\n",
    "    political_tendency: Optional[str] = Field(None, description=\"Political Tendency of the text\")"
   ]
  },
  {
   "cell_type": "code",
   "execution_count": 9,
   "metadata": {},
   "outputs": [
    {
     "data": {
      "text/plain": [
       "Classifier(sentiment='positive', language='English', political_tendency='conservative')"
      ]
     },
     "execution_count": 9,
     "metadata": {},
     "output_type": "execute_result"
    }
   ],
   "source": [
    "from langchain_core.prompts import ChatPromptTemplate\n",
    "\n",
    "# Fix the Classifier class definition\n",
    "class Classifier(BaseModel):\n",
    "    sentiment: Optional[str] = Field(None, description=\"Sentiment of the text\")\n",
    "    language: Optional[str] = Field(None, description=\"Language of the text\")\n",
    "    political_tendency: Optional[str] = Field(None, description=\"Political Tendency of the text\")\n",
    "\n",
    "prompt=ChatPromptTemplate.from_template(\"\"\"\n",
    "Extract the sentiment, language and political tendency of the text.\n",
    "Text {text}                                 \n",
    "\"\"\")\n",
    "chain = prompt | chatbot.with_structured_output(schema=Classifier)\n",
    "trump_follower = \"I'm confident that President Trump's leadership and track record will once again resonate with Americans. His strong stance on economic growth and national security is exactly what our country needs at this pivotal moment. We need to bring back the proven leadership that can make America great again!\"\n",
    "chain.invoke({\"text\":trump_follower})"
   ]
  },
  {
   "cell_type": "code",
   "execution_count": 10,
   "metadata": {},
   "outputs": [
    {
     "data": {
      "text/plain": [
       "Classifier(sentiment='positive', language='English', political_tendency='liberal')"
      ]
     },
     "execution_count": 10,
     "metadata": {},
     "output_type": "execute_result"
    }
   ],
   "source": [
    "biden_follower = \"I believe President Biden's compassionate and steady approach is vital for our nation right now. His commitment to healthcare reform, climate change, and restoring our international alliances is crucial. It's time to continue the progress and ensure a future that benefits all Americans.\"\n",
    "chain.invoke({\"text\":biden_follower})\n"
   ]
  },
  {
   "cell_type": "code",
   "execution_count": 11,
   "metadata": {},
   "outputs": [
    {
     "data": {
      "text/plain": [
       "Classifier(sentiment='positivo', language='español', political_tendency='liberal')"
      ]
     },
     "execution_count": 11,
     "metadata": {},
     "output_type": "execute_result"
    }
   ],
   "source": [
    "es=\"Creo que el enfoque compasivo y firme del presidente Biden es vital para nuestra nación en este momento. Su compromiso con la reforma sanitaria, el cambio climático y el restablecimiento de nuestras alianzas internacionales es crucial. Es hora de continuar el progreso y garantizar un futuro que beneficie a todos los estadounidenses.\"\n",
    "chain.invoke({\"text\":es})"
   ]
  },
  {
   "cell_type": "code",
   "execution_count": 13,
   "metadata": {},
   "outputs": [
    {
     "data": {
      "text/plain": [
       "Classifier_adv(sentiment='happy', language='en', political_tendency='left')"
      ]
     },
     "execution_count": 13,
     "metadata": {},
     "output_type": "execute_result"
    }
   ],
   "source": [
    "class Classifier_adv(BaseModel):\n",
    "    sentiment: str = Field(..., enum=[\"happy\", \"neutral\", \"sad\"],description=\"Sentiment of the text\") # ... means it is mandatory\n",
    "    language: str = Field(..., description=\"Language of the text\", enum=[\"en\", \"es\"])\n",
    "    political_tendency: str = Field(..., description=\"Political Tendency of the text\", enum=[\"left\", \"right\"])\n",
    "chain_adv = prompt | chatbot.with_structured_output(schema=Classifier_adv)\n",
    "chain_adv.invoke({\"text\":biden_follower})"
   ]
  },
  {
   "cell_type": "code",
   "execution_count": 14,
   "metadata": {},
   "outputs": [
    {
     "data": {
      "text/plain": [
       "Classifier_adv(sentiment='happy', language='es', political_tendency='left')"
      ]
     },
     "execution_count": 14,
     "metadata": {},
     "output_type": "execute_result"
    }
   ],
   "source": [
    "italian=\"Credo che l’approccio compassionevole e costante del presidente Biden sia vitale per la nostra nazione in questo momento. Il suo impegno per la riforma sanitaria, il cambiamento climatico e il ripristino delle nostre alleanze internazionali è cruciale. È tempo di continuare il progresso e garantire un futuro a beneficio di tutti gli americani.\"\n",
    "chain_adv.invoke({\"text\":italian}) # This will fail as the language is not supported or language is not correct"
   ]
  },
  {
   "cell_type": "code",
   "execution_count": null,
   "metadata": {},
   "outputs": [],
   "source": []
  }
 ],
 "metadata": {
  "kernelspec": {
   "display_name": "venv",
   "language": "python",
   "name": "python3"
  },
  "language_info": {
   "codemirror_mode": {
    "name": "ipython",
    "version": 3
   },
   "file_extension": ".py",
   "mimetype": "text/x-python",
   "name": "python",
   "nbconvert_exporter": "python",
   "pygments_lexer": "ipython3",
   "version": "3.10.12"
  }
 },
 "nbformat": 4,
 "nbformat_minor": 2
}
