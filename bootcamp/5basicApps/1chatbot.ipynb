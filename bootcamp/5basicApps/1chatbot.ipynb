{
 "cells": [
  {
   "cell_type": "code",
   "execution_count": 2,
   "id": "6c8ddb7f-1e51-4e75-b1e5-0a631f8287f1",
   "metadata": {},
   "outputs": [],
   "source": [
    "from langchain_openai import ChatOpenAI\n",
    "from dotenv import load_dotenv, find_dotenv\n",
    "from langchain_core.prompts import (\n",
    "    ChatPromptTemplate,\n",
    "    MessagesPlaceholder,\n",
    "    SystemMessagePromptTemplate,\n",
    "    HumanMessagePromptTemplate,\n",
    ")"
   ]
  },
  {
   "cell_type": "code",
   "execution_count": 3,
   "id": "6a0d6fed",
   "metadata": {},
   "outputs": [],
   "source": [
    "_ = load_dotenv(find_dotenv())\n",
    "llm = ChatOpenAI(model=\"gpt-4o-mini\")"
   ]
  },
  {
   "cell_type": "code",
   "execution_count": 23,
   "id": "380aacc9",
   "metadata": {},
   "outputs": [],
   "source": [
    "from langchain.memory import ConversationBufferMemory\n",
    "from langchain.memory import FileChatMessageHistory\n",
    "\n",
    "prompt=ChatPromptTemplate(\n",
    "    messages=[\n",
    "        SystemMessagePromptTemplate.from_template(\"You are helpful assistant to human\"),\n",
    "        HumanMessagePromptTemplate.from_template(\"{content}\"),\n",
    "        MessagesPlaceholder(variable_name=\"m\"),\n",
    "    ]\n",
    ")"
   ]
  },
  {
   "cell_type": "code",
   "execution_count": 24,
   "id": "f36c189b",
   "metadata": {},
   "outputs": [
    {
     "data": {
      "text/plain": [
       "{'content': 'Hello',\n",
       " 'm': [HumanMessage(content='{question}: Hi'),\n",
       "  AIMessage(content='Hello! How can I assist you today?'),\n",
       "  HumanMessage(content='{question}: Hi'),\n",
       "  AIMessage(content='Hello! How can I assist you today?')],\n",
       " 'text': 'Hello! How can I assist you today?'}"
      ]
     },
     "execution_count": 24,
     "metadata": {},
     "output_type": "execute_result"
    }
   ],
   "source": [
    "from langchain import LLMChain\n",
    "memory=ConversationBufferMemory(\n",
    "    chat_memory=FileChatMessageHistory(\"message.json\"),\n",
    "    memory_key=\"m\",\n",
    "    return_messages=True,\n",
    ")\n",
    "chain = LLMChain(llm=llm,memory=memory,prompt=prompt)\n",
    "chain.invoke({\"content\":\"Hello\"})"
   ]
  },
  {
   "cell_type": "code",
   "execution_count": 25,
   "id": "0ec683d2",
   "metadata": {},
   "outputs": [
    {
     "data": {
      "text/plain": [
       "{'content': 'I am rishi',\n",
       " 'm': [HumanMessage(content='{question}: Hi'),\n",
       "  AIMessage(content='Hello! How can I assist you today?'),\n",
       "  HumanMessage(content='{question}: Hi'),\n",
       "  AIMessage(content='Hello! How can I assist you today?'),\n",
       "  HumanMessage(content='Hello'),\n",
       "  AIMessage(content='Hello! How can I assist you today?')],\n",
       " 'text': 'Hello again! How can I help you today?'}"
      ]
     },
     "execution_count": 25,
     "metadata": {},
     "output_type": "execute_result"
    }
   ],
   "source": [
    "chain.invoke(\"I am rishi\")"
   ]
  },
  {
   "cell_type": "code",
   "execution_count": 26,
   "id": "de282bbd",
   "metadata": {},
   "outputs": [
    {
     "data": {
      "text/plain": [
       "{'content': 'What is you name',\n",
       " 'm': [HumanMessage(content='{question}: Hi'),\n",
       "  AIMessage(content='Hello! How can I assist you today?'),\n",
       "  HumanMessage(content='{question}: Hi'),\n",
       "  AIMessage(content='Hello! How can I assist you today?'),\n",
       "  HumanMessage(content='Hello'),\n",
       "  AIMessage(content='Hello! How can I assist you today?'),\n",
       "  HumanMessage(content='I am rishi'),\n",
       "  AIMessage(content='Hello again! How can I help you today?')],\n",
       " 'text': 'Hello, Rishi! How can I assist you today?'}"
      ]
     },
     "execution_count": 26,
     "metadata": {},
     "output_type": "execute_result"
    }
   ],
   "source": [
    "chain.invoke(\"What is you name\")"
   ]
  },
  {
   "cell_type": "code",
   "execution_count": 27,
   "id": "b79235ad",
   "metadata": {},
   "outputs": [
    {
     "data": {
      "text/plain": [
       "{'content': 'I live in Bharat',\n",
       " 'm': [HumanMessage(content='{question}: Hi'),\n",
       "  AIMessage(content='Hello! How can I assist you today?'),\n",
       "  HumanMessage(content='{question}: Hi'),\n",
       "  AIMessage(content='Hello! How can I assist you today?'),\n",
       "  HumanMessage(content='Hello'),\n",
       "  AIMessage(content='Hello! How can I assist you today?'),\n",
       "  HumanMessage(content='I am rishi'),\n",
       "  AIMessage(content='Hello again! How can I help you today?'),\n",
       "  HumanMessage(content='What is you name'),\n",
       "  AIMessage(content='Hello, Rishi! How can I assist you today?')],\n",
       " 'text': 'I don’t have a personal name, but you can call me Assistant. How can I help you today, Rishi?'}"
      ]
     },
     "execution_count": 27,
     "metadata": {},
     "output_type": "execute_result"
    }
   ],
   "source": [
    "chain.invoke(\"I live in Bharat\")"
   ]
  },
  {
   "cell_type": "code",
   "execution_count": 28,
   "id": "d8bad506",
   "metadata": {},
   "outputs": [
    {
     "data": {
      "text/plain": [
       "{'content': 'Whwre do it live',\n",
       " 'm': [HumanMessage(content='{question}: Hi'),\n",
       "  AIMessage(content='Hello! How can I assist you today?'),\n",
       "  HumanMessage(content='{question}: Hi'),\n",
       "  AIMessage(content='Hello! How can I assist you today?'),\n",
       "  HumanMessage(content='Hello'),\n",
       "  AIMessage(content='Hello! How can I assist you today?'),\n",
       "  HumanMessage(content='I am rishi'),\n",
       "  AIMessage(content='Hello again! How can I help you today?'),\n",
       "  HumanMessage(content='What is you name'),\n",
       "  AIMessage(content='Hello, Rishi! How can I assist you today?'),\n",
       "  HumanMessage(content='I live in Bharat'),\n",
       "  AIMessage(content='I don’t have a personal name, but you can call me Assistant. How can I help you today, Rishi?')],\n",
       " 'text': \"That's great to know, Rishi! Bharat is rich in culture and history. Is there something specific you'd like to talk about or ask regarding Bharat or anything else?\"}"
      ]
     },
     "execution_count": 28,
     "metadata": {},
     "output_type": "execute_result"
    }
   ],
   "source": [
    "chain.invoke(\"Whwre do it live\")"
   ]
  },
  {
   "cell_type": "code",
   "execution_count": null,
   "id": "d7c114a7",
   "metadata": {},
   "outputs": [],
   "source": []
  }
 ],
 "metadata": {
  "kernelspec": {
   "display_name": "Python 3 (ipykernel)",
   "language": "python",
   "name": "python3"
  },
  "language_info": {
   "codemirror_mode": {
    "name": "ipython",
    "version": 3
   },
   "file_extension": ".py",
   "mimetype": "text/x-python",
   "name": "python",
   "nbconvert_exporter": "python",
   "pygments_lexer": "ipython3",
   "version": "3.10.12"
  }
 },
 "nbformat": 4,
 "nbformat_minor": 5
}
