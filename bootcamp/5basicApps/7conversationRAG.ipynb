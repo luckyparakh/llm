{
 "cells": [
  {
   "cell_type": "code",
   "execution_count": 1,
   "metadata": {},
   "outputs": [],
   "source": [
    "from dotenv import load_dotenv,find_dotenv\n",
    "from typing import Optional,List\n",
    "\n",
    "from langchain_core.pydantic_v1 import BaseModel, Field\n",
    "_ = load_dotenv(find_dotenv())\n",
    "from langchain_openai import ChatOpenAI\n",
    "\n",
    "chatbot = ChatOpenAI(model=\"gpt-4o-mini\")"
   ]
  },
  {
   "cell_type": "code",
   "execution_count": 4,
   "metadata": {},
   "outputs": [
    {
     "name": "stdout",
     "output_type": "stream",
     "text": [
      "{'input': 'What is this article about?', 'context': [Document(metadata={'source': './data/be_good.txt'}, page_content='Be good'), Document(metadata={'source': './data/be_good.txt'}, page_content='Be good'), Document(metadata={'source': './data/be_good.txt'}, page_content=\"or both of the principles we began with is false.  Or we have a new\\nidea.I suspect it's the latter, because as soon as this thought occurred\\nto me, a whole bunch of other things fell into place.ExamplesFor example, Craigslist.  It's not a charity, but they run it like\\none.  And they're astoundingly successful.  When you scan down the\\nlist of most popular web sites, the number of employees at Craigslist\\nlooks like a misprint. Their revenues aren't as high as they could\\nbe, but most startups would be happy to trade places with them.In Patrick O'Brian's novels, his captains always try to get upwind\\nof their opponents.  If you're upwind, you decide when and if to\\nengage the other ship.  Craigslist is effectively upwind of enormous\\nrevenues.  They'd face some challenges if they wanted to make more,\\nbut not the sort you face when you're tacking upwind, trying to\\nforce a crappy product on ambivalent users by spending ten times\"), Document(metadata={'source': './data/be_good.txt'}, page_content=\"or both of the principles we began with is false.  Or we have a new\\nidea.I suspect it's the latter, because as soon as this thought occurred\\nto me, a whole bunch of other things fell into place.ExamplesFor example, Craigslist.  It's not a charity, but they run it like\\none.  And they're astoundingly successful.  When you scan down the\\nlist of most popular web sites, the number of employees at Craigslist\\nlooks like a misprint. Their revenues aren't as high as they could\\nbe, but most startups would be happy to trade places with them.In Patrick O'Brian's novels, his captains always try to get upwind\\nof their opponents.  If you're upwind, you decide when and if to\\nengage the other ship.  Craigslist is effectively upwind of enormous\\nrevenues.  They'd face some challenges if they wanted to make more,\\nbut not the sort you face when you're tacking upwind, trying to\\nforce a crappy product on ambivalent users by spending ten times\")], 'answer': 'The article discusses the success of Craigslist, highlighting its unique operational approach that resembles a charity despite being a for-profit entity. It emphasizes how Craigslist manages to thrive with fewer employees and lower revenues compared to other startups, allowing it to maintain control over its business decisions. Additionally, it uses a metaphor comparing Craigslist\\'s strategic position to being \"upwind\" in a naval battle, suggesting it has advantageous leverage in the market.'}\n"
     ]
    }
   ],
   "source": [
    "from langchain_core.prompts import ChatPromptTemplate\n",
    "from langchain_community.document_loaders import TextLoader\n",
    "from langchain_chroma import Chroma\n",
    "from langchain_openai import OpenAIEmbeddings\n",
    "from langchain_text_splitters import RecursiveCharacterTextSplitter\n",
    "from langchain.chains import create_retrieval_chain\n",
    "from langchain.chains.combine_documents import create_stuff_documents_chain\n",
    "\n",
    "loader=TextLoader(\"./data/be_good.txt\")\n",
    "docs=loader.load()\n",
    "\n",
    "splitter=RecursiveCharacterTextSplitter(chunk_size=1000,chunk_overlap=100)\n",
    "chunks=splitter.split_documents(docs)\n",
    "vs=Chroma.from_documents(chunks,embedding=OpenAIEmbeddings())\n",
    "r=vs.as_retriever()\n",
    "\n",
    "system_prompt = (\n",
    "    \"You are an assistant for question-answering tasks. \"\n",
    "    \"Use the following pieces of retrieved context to answer \"\n",
    "    \"the question. If you don't know the answer, say that you \"\n",
    "    \"don't know. Use three sentences maximum and keep the \"\n",
    "    \"answer concise.\"\n",
    "    \"\\n\\n\"\n",
    "    \"{context}\"\n",
    ")\n",
    "p=ChatPromptTemplate.from_messages([\n",
    "    (\"system\",system_prompt),\n",
    "    (\"human\",\"{input}\")\n",
    "])\n",
    "doc_chain=create_stuff_documents_chain(chatbot,p)\n",
    "rag_chain=create_retrieval_chain(r,doc_chain)\n",
    "o=rag_chain.invoke({\"input\": \"What is this article about?\"})\n",
    "print(o)"
   ]
  },
  {
   "cell_type": "code",
   "execution_count": 5,
   "metadata": {},
   "outputs": [
    {
     "data": {
      "text/plain": [
       "'The article discusses the success of Craigslist, highlighting its unique operational approach that resembles a charity despite being a for-profit entity. It emphasizes how Craigslist manages to thrive with fewer employees and lower revenues compared to other startups, allowing it to maintain control over its business decisions. Additionally, it uses a metaphor comparing Craigslist\\'s strategic position to being \"upwind\" in a naval battle, suggesting it has advantageous leverage in the market.'"
      ]
     },
     "execution_count": 5,
     "metadata": {},
     "output_type": "execute_result"
    }
   ],
   "source": [
    "o[\"answer\"]"
   ]
  },
  {
   "cell_type": "code",
   "execution_count": 6,
   "metadata": {},
   "outputs": [
    {
     "data": {
      "text/plain": [
       "{'input': 'What was my previous question',\n",
       " 'context': [Document(metadata={'source': './data/be_good.txt'}, page_content='Be good'),\n",
       "  Document(metadata={'source': './data/be_good.txt'}, page_content='Be good'),\n",
       "  Document(metadata={'source': './data/be_good.txt'}, page_content=\"about malaria.  But I've been kicking ideas around long enough to\\nknow when I come across a powerful one.One way to guess how far an idea extends is to ask yourself at what\\npoint you'd bet against it.  The thought of betting against benevolence\\nis alarming in the same way as saying that something is technically\\nimpossible.  You're just asking to be made a fool of, because these\\nare such powerful forces.  [2]For example, initially I thought maybe this principle only applied\\nto Internet startups.  Obviously it worked for Google, but what\\nabout Microsoft?  Surely Microsoft isn't benevolent?  But when I\\nthink back to the beginning, they were.  Compared to IBM they were\\nlike Robin Hood.  When IBM introduced the PC, they thought they\\nwere going to make money selling hardware at high prices.  But by\\ngaining control of the PC standard, Microsoft opened up the market\\nto any manufacturer.  Hardware prices plummeted, and lots of people\"),\n",
       "  Document(metadata={'source': './data/be_good.txt'}, page_content=\"about malaria.  But I've been kicking ideas around long enough to\\nknow when I come across a powerful one.One way to guess how far an idea extends is to ask yourself at what\\npoint you'd bet against it.  The thought of betting against benevolence\\nis alarming in the same way as saying that something is technically\\nimpossible.  You're just asking to be made a fool of, because these\\nare such powerful forces.  [2]For example, initially I thought maybe this principle only applied\\nto Internet startups.  Obviously it worked for Google, but what\\nabout Microsoft?  Surely Microsoft isn't benevolent?  But when I\\nthink back to the beginning, they were.  Compared to IBM they were\\nlike Robin Hood.  When IBM introduced the PC, they thought they\\nwere going to make money selling hardware at high prices.  But by\\ngaining control of the PC standard, Microsoft opened up the market\\nto any manufacturer.  Hardware prices plummeted, and lots of people\")],\n",
       " 'answer': \"I don't know.\"}"
      ]
     },
     "execution_count": 6,
     "metadata": {},
     "output_type": "execute_result"
    }
   ],
   "source": [
    "rag_chain.invoke({\"input\": \"What was my previous question\"})"
   ]
  },
  {
   "cell_type": "markdown",
   "metadata": {},
   "source": [
    "Create a ChatPromptTemplate able to contextualize inputs"
   ]
  },
  {
   "cell_type": "code",
   "execution_count": 8,
   "metadata": {},
   "outputs": [],
   "source": [
    "from langchain_core.prompts import MessagesPlaceholder\n",
    "context_system_prompt=(\"Given a chat history and the latest user question \"\n",
    "    \"which might reference context in the chat history, \"\n",
    "    \"formulate a standalone question which can be understood \"\n",
    "    \"without the chat history. Do NOT answer the question, \"\n",
    "    \"just reformulate it if needed and otherwise return it as is.\")\n",
    "context_prompt=ChatPromptTemplate.from_messages([\n",
    "    (\"system\",context_system_prompt),\n",
    "    (\"human\",\"{input}\"),\n",
    "    MessagesPlaceholder(\"chat_history\"),\n",
    "    ])"
   ]
  },
  {
   "cell_type": "code",
   "execution_count": 9,
   "metadata": {},
   "outputs": [],
   "source": [
    "from langchain.chains import create_history_aware_retriever\n",
    "\n",
    "history_aware_retriever = create_history_aware_retriever(\n",
    "    chatbot, r, context_prompt\n",
    ")"
   ]
  },
  {
   "cell_type": "code",
   "execution_count": 10,
   "metadata": {},
   "outputs": [],
   "source": [
    "qa_prompt = ChatPromptTemplate.from_messages(\n",
    "    [\n",
    "        (\"system\", system_prompt),\n",
    "        MessagesPlaceholder(\"chat_history\"),\n",
    "        (\"human\", \"{input}\"),\n",
    "    ]\n",
    ")\n",
    "question_answer_chain = create_stuff_documents_chain(chatbot, qa_prompt)\n",
    "\n",
    "rag_chain_context = create_retrieval_chain(history_aware_retriever, question_answer_chain)"
   ]
  },
  {
   "cell_type": "code",
   "execution_count": 14,
   "metadata": {},
   "outputs": [
    {
     "data": {
      "text/plain": [
       "{'input': 'What is this article about?',\n",
       " 'chat_history': [HumanMessage(content='What is this article about?'),\n",
       "  AIMessage(content='The article discusses the success of Craigslist, highlighting how it operates similarly to a charity and has a surprisingly low number of employees compared to its popularity. It suggests that Craigslist is in a strong position (\"upwind\") regarding its revenues, implying that they could choose to pursue greater profits if desired. Overall, it reflects on the unconventional yet effective business model of Craigslist.')],\n",
       " 'context': [Document(metadata={'source': './data/be_good.txt'}, page_content='Be good'),\n",
       "  Document(metadata={'source': './data/be_good.txt'}, page_content='Be good'),\n",
       "  Document(metadata={'source': './data/be_good.txt'}, page_content=\"or both of the principles we began with is false.  Or we have a new\\nidea.I suspect it's the latter, because as soon as this thought occurred\\nto me, a whole bunch of other things fell into place.ExamplesFor example, Craigslist.  It's not a charity, but they run it like\\none.  And they're astoundingly successful.  When you scan down the\\nlist of most popular web sites, the number of employees at Craigslist\\nlooks like a misprint. Their revenues aren't as high as they could\\nbe, but most startups would be happy to trade places with them.In Patrick O'Brian's novels, his captains always try to get upwind\\nof their opponents.  If you're upwind, you decide when and if to\\nengage the other ship.  Craigslist is effectively upwind of enormous\\nrevenues.  They'd face some challenges if they wanted to make more,\\nbut not the sort you face when you're tacking upwind, trying to\\nforce a crappy product on ambivalent users by spending ten times\"),\n",
       "  Document(metadata={'source': './data/be_good.txt'}, page_content=\"or both of the principles we began with is false.  Or we have a new\\nidea.I suspect it's the latter, because as soon as this thought occurred\\nto me, a whole bunch of other things fell into place.ExamplesFor example, Craigslist.  It's not a charity, but they run it like\\none.  And they're astoundingly successful.  When you scan down the\\nlist of most popular web sites, the number of employees at Craigslist\\nlooks like a misprint. Their revenues aren't as high as they could\\nbe, but most startups would be happy to trade places with them.In Patrick O'Brian's novels, his captains always try to get upwind\\nof their opponents.  If you're upwind, you decide when and if to\\nengage the other ship.  Craigslist is effectively upwind of enormous\\nrevenues.  They'd face some challenges if they wanted to make more,\\nbut not the sort you face when you're tacking upwind, trying to\\nforce a crappy product on ambivalent users by spending ten times\")],\n",
       " 'answer': 'The article discusses the success of Craigslist, highlighting how it operates similarly to a charity and has a surprisingly low number of employees compared to its popularity. It suggests that Craigslist is in a strong position (\"upwind\") regarding its revenues, implying that they could choose to pursue greater profits if desired. Overall, it reflects on the unconventional yet effective business model of Craigslist.'}"
      ]
     },
     "execution_count": 14,
     "metadata": {},
     "output_type": "execute_result"
    }
   ],
   "source": [
    "from langchain_core.messages import AIMessage, HumanMessage\n",
    "\n",
    "chat_history = []\n",
    "\n",
    "question = \"What is this article about?\"\n",
    "\n",
    "ai_msg_1 = rag_chain_context.invoke({\"input\": question, \"chat_history\": chat_history})\n",
    "\n",
    "chat_history.extend(\n",
    "    [\n",
    "        HumanMessage(content=question),\n",
    "        AIMessage(content=ai_msg_1[\"answer\"]),\n",
    "    ]\n",
    ")\n",
    "ai_msg_1\n"
   ]
  },
  {
   "cell_type": "code",
   "execution_count": 15,
   "metadata": {},
   "outputs": [
    {
     "name": "stdout",
     "output_type": "stream",
     "text": [
      "Your previous question was about the topic or content of the article.\n"
     ]
    }
   ],
   "source": [
    "second_question = \"What was my previous question about?\"\n",
    "\n",
    "ai_msg_2 = rag_chain_context.invoke({\"input\": second_question, \"chat_history\": chat_history})\n",
    "\n",
    "print(ai_msg_2[\"answer\"])"
   ]
  },
  {
   "cell_type": "code",
   "execution_count": 16,
   "metadata": {},
   "outputs": [
    {
     "data": {
      "text/plain": [
       "{'input': 'What was my previous question about?',\n",
       " 'chat_history': [HumanMessage(content='What is this article about?'),\n",
       "  AIMessage(content='The article discusses the success of Craigslist, highlighting how it operates similarly to a charity and has a surprisingly low number of employees compared to its popularity. It suggests that Craigslist is in a strong position (\"upwind\") regarding its revenues, implying that they could choose to pursue greater profits if desired. Overall, it reflects on the unconventional yet effective business model of Craigslist.')],\n",
       " 'context': [Document(metadata={'source': './data/be_good.txt'}, page_content=\"term the most important may be the potential employees.  I think\\neveryone knows now that \\ngood hackers are much better than mediocre\\nones.  If you can attract the best hackers to work for you, as\\nGoogle has, you have a big advantage.  And the very best hackers\\ntend to be idealistic.  They're not desperate for a job.  They can\\nwork wherever they want.  So most want to work on things that will\\nmake the world better.CompassBut the most important advantage of being good is that it acts as\\na compass.  One of the hardest parts of doing a startup is that you\\nhave so many choices.  There are just two or three of you, and a\\nthousand things you could do. How do you decide?Here's the answer: Do whatever's best for your users.  You can hold\\nonto this like a rope in a hurricane, and it will save you if\\nanything can.  Follow it and it will take you through everything\\nyou need to do.It's even the answer to questions that seem unrelated, like how to\"),\n",
       "  Document(metadata={'source': './data/be_good.txt'}, page_content=\"term the most important may be the potential employees.  I think\\neveryone knows now that \\ngood hackers are much better than mediocre\\nones.  If you can attract the best hackers to work for you, as\\nGoogle has, you have a big advantage.  And the very best hackers\\ntend to be idealistic.  They're not desperate for a job.  They can\\nwork wherever they want.  So most want to work on things that will\\nmake the world better.CompassBut the most important advantage of being good is that it acts as\\na compass.  One of the hardest parts of doing a startup is that you\\nhave so many choices.  There are just two or three of you, and a\\nthousand things you could do. How do you decide?Here's the answer: Do whatever's best for your users.  You can hold\\nonto this like a rope in a hurricane, and it will save you if\\nanything can.  Follow it and it will take you through everything\\nyou need to do.It's even the answer to questions that seem unrelated, like how to\"),\n",
       "  Document(metadata={'source': './data/be_good.txt'}, page_content=\"April 2008(This essay is derived from a talk at the 2008 Startup School.)About a month after we started Y Combinator we came up with the\\nphrase that became our motto: Make something people want.  We've\\nlearned a lot since then, but if I were choosing now that's still\\nthe one I'd pick.Another thing we tell founders is not to worry too much about the\\nbusiness model, at least at first.  Not because making money is\\nunimportant, but because it's so much easier than building something\\ngreat.A couple weeks ago I realized that if you put those two ideas\\ntogether, you get something surprising.  Make something people want.\\nDon't worry too much about making money.  What you've got is a\\ndescription of a charity.When you get an unexpected result like this, it could either be a\\nbug or a new discovery.  Either businesses aren't supposed to be\\nlike charities, and we've proven by reductio ad absurdum that one\\nor both of the principles we began with is false.  Or we have a new\"),\n",
       "  Document(metadata={'source': './data/be_good.txt'}, page_content=\"April 2008(This essay is derived from a talk at the 2008 Startup School.)About a month after we started Y Combinator we came up with the\\nphrase that became our motto: Make something people want.  We've\\nlearned a lot since then, but if I were choosing now that's still\\nthe one I'd pick.Another thing we tell founders is not to worry too much about the\\nbusiness model, at least at first.  Not because making money is\\nunimportant, but because it's so much easier than building something\\ngreat.A couple weeks ago I realized that if you put those two ideas\\ntogether, you get something surprising.  Make something people want.\\nDon't worry too much about making money.  What you've got is a\\ndescription of a charity.When you get an unexpected result like this, it could either be a\\nbug or a new discovery.  Either businesses aren't supposed to be\\nlike charities, and we've proven by reductio ad absurdum that one\\nor both of the principles we began with is false.  Or we have a new\")],\n",
       " 'answer': 'Your previous question was about the topic or content of the article.'}"
      ]
     },
     "execution_count": 16,
     "metadata": {},
     "output_type": "execute_result"
    }
   ],
   "source": [
    "ai_msg_2"
   ]
  },
  {
   "cell_type": "code",
   "execution_count": 20,
   "metadata": {},
   "outputs": [],
   "source": [
    "from langchain_community.chat_message_histories import ChatMessageHistory\n",
    "from langchain_core.chat_history import BaseChatMessageHistory\n",
    "from langchain_core.runnables.history import RunnableWithMessageHistory\n",
    "\n",
    "store = {}\n",
    "\n",
    "\n",
    "def get_session_history(session_id: str) -> BaseChatMessageHistory:\n",
    "    if session_id not in store:\n",
    "        store[session_id] = ChatMessageHistory()\n",
    "    return store[session_id]\n",
    "\n",
    "\n",
    "conversational_rag_chain = RunnableWithMessageHistory(\n",
    "    rag_chain_context,\n",
    "    get_session_history,\n",
    "    input_messages_key=\"input\",\n",
    "    history_messages_key=\"chat_history\",\n",
    "    output_messages_key=\"answer\",\n",
    ")"
   ]
  },
  {
   "cell_type": "code",
   "execution_count": 21,
   "metadata": {},
   "outputs": [
    {
     "data": {
      "text/plain": [
       "'The article discusses the unique business model of Craigslist, highlighting its charitable-like operations and successful outcomes despite lower revenues compared to potential earnings. It compares Craigslist\\'s strategic advantage to being \"upwind\" in naval tactics, allowing it to control engagement with users without forcing a subpar product on them. Overall, it suggests that Craigslist has found a new approach to success that deviates from traditional principles.'"
      ]
     },
     "execution_count": 21,
     "metadata": {},
     "output_type": "execute_result"
    }
   ],
   "source": [
    "conversational_rag_chain.invoke(\n",
    "    {\"input\": \"What is this article about?\"},\n",
    "    config={\n",
    "        \"configurable\": {\"session_id\": \"001\"}\n",
    "    },  # constructs a key \"001\" in `store`.\n",
    ")[\"answer\"]"
   ]
  },
  {
   "cell_type": "code",
   "execution_count": 22,
   "metadata": {},
   "outputs": [
    {
     "data": {
      "text/plain": [
       "'Your last question was, \"What is this article about?\"'"
      ]
     },
     "execution_count": 22,
     "metadata": {},
     "output_type": "execute_result"
    }
   ],
   "source": [
    "conversational_rag_chain.invoke(\n",
    "    {\"input\": \"What was my last question?\"},\n",
    "    config={\n",
    "        \"configurable\": {\"session_id\": \"001\"}\n",
    "    },  # constructs a key \"001\" in `store`.\n",
    ")[\"answer\"]"
   ]
  },
  {
   "cell_type": "code",
   "execution_count": 23,
   "metadata": {},
   "outputs": [
    {
     "data": {
      "text/plain": [
       "\"I don't know.\""
      ]
     },
     "execution_count": 23,
     "metadata": {},
     "output_type": "execute_result"
    }
   ],
   "source": [
    "conversational_rag_chain.invoke(\n",
    "    {\"input\": \"What was my last question?\"},\n",
    "    config={\n",
    "        \"configurable\": {\"session_id\": \"002\"}\n",
    "    },  # constructs a key \"001\" in `store`.\n",
    ")[\"answer\"]"
   ]
  },
  {
   "cell_type": "code",
   "execution_count": null,
   "metadata": {},
   "outputs": [],
   "source": []
  }
 ],
 "metadata": {
  "kernelspec": {
   "display_name": "venv",
   "language": "python",
   "name": "python3"
  },
  "language_info": {
   "codemirror_mode": {
    "name": "ipython",
    "version": 3
   },
   "file_extension": ".py",
   "mimetype": "text/x-python",
   "name": "python",
   "nbconvert_exporter": "python",
   "pygments_lexer": "ipython3",
   "version": "3.10.12"
  }
 },
 "nbformat": 4,
 "nbformat_minor": 2
}
