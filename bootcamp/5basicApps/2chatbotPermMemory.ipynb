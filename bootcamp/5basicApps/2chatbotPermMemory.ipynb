{
 "cells": [
  {
   "cell_type": "code",
   "execution_count": 33,
   "metadata": {},
   "outputs": [],
   "source": [
    "from dotenv import load_dotenv,find_dotenv\n",
    "_ = load_dotenv(find_dotenv())"
   ]
  },
  {
   "cell_type": "code",
   "execution_count": 34,
   "metadata": {},
   "outputs": [],
   "source": [
    "from langchain_openai import ChatOpenAI\n",
    "\n",
    "chatbot = ChatOpenAI(model=\"gpt-4o-mini\")"
   ]
  },
  {
   "cell_type": "code",
   "execution_count": 35,
   "metadata": {},
   "outputs": [],
   "source": [
    "from langchain_core.chat_history import BaseChatMessageHistory\n",
    "from langchain_community.chat_message_histories import ChatMessageHistory\n",
    "from langchain_core.runnables.history import RunnableWithMessageHistory\n",
    "\n",
    "history= {}\n",
    "def get_by_session_id(session_id:str) -> BaseChatMessageHistory:\n",
    "    if session_id not in history:\n",
    "        history[session_id] = ChatMessageHistory()\n",
    "    return history[session_id]\n",
    "chatbot_with_message_history=RunnableWithMessageHistory(chatbot, get_by_session_id)"
   ]
  },
  {
   "cell_type": "code",
   "execution_count": 36,
   "metadata": {},
   "outputs": [],
   "source": [
    "session1 = {\"configurable\": {\"session_id\": \"001\"}}\n",
    "session2 = {\"configurable\": {\"session_id\": \"002\"}}"
   ]
  },
  {
   "cell_type": "code",
   "execution_count": 37,
   "metadata": {},
   "outputs": [
    {
     "data": {
      "text/plain": [
       "AIMessage(content=\"That's great! Red is a vibrant and powerful color often associated with energy, passion, and love. Do you have a specific shade of red that you like, or do you enjoy it in general?\", response_metadata={'token_usage': {'completion_tokens': 40, 'prompt_tokens': 13, 'total_tokens': 53, 'completion_tokens_details': {'reasoning_tokens': 0}}, 'model_name': 'gpt-4o-mini-2024-07-18', 'system_fingerprint': 'fp_f85bea6784', 'finish_reason': 'stop', 'logprobs': None}, id='run-d9749443-d87d-4a83-bfc4-dd28cbd5f9d8-0', usage_metadata={'input_tokens': 13, 'output_tokens': 40, 'total_tokens': 53})"
      ]
     },
     "execution_count": 37,
     "metadata": {},
     "output_type": "execute_result"
    }
   ],
   "source": [
    "from langchain_core.messages import HumanMessage\n",
    "chatbot_with_message_history.invoke([HumanMessage(content=\"My favorite color is red.\")],config=session1)"
   ]
  },
  {
   "cell_type": "code",
   "execution_count": 38,
   "metadata": {},
   "outputs": [
    {
     "data": {
      "text/plain": [
       "'Your favorite color is red!'"
      ]
     },
     "execution_count": 38,
     "metadata": {},
     "output_type": "execute_result"
    }
   ],
   "source": [
    "responseFromChatbot = chatbot_with_message_history.invoke(\n",
    "    \"What's my favorite color?\",\n",
    "    config=session1,\n",
    ")\n",
    "\n",
    "responseFromChatbot.content"
   ]
  },
  {
   "cell_type": "code",
   "execution_count": 39,
   "metadata": {},
   "outputs": [
    {
     "data": {
      "text/plain": [
       "\"I'm not sure what your favorite color is! If you tell me, I'd love to hear about it.\""
      ]
     },
     "execution_count": 39,
     "metadata": {},
     "output_type": "execute_result"
    }
   ],
   "source": [
    "responseFromChatbot = chatbot_with_message_history.invoke(\n",
    "    (\"HumanMessage\",\"What's my favorite color?\"),\n",
    "    config=session2,\n",
    ")\n",
    "responseFromChatbot.content"
   ]
  },
  {
   "cell_type": "code",
   "execution_count": 40,
   "metadata": {},
   "outputs": [
    {
     "data": {
      "text/plain": [
       "\"Your favorite color is red. If you'd like to share more about why you like it or how you use it in your life, I'd love to hear!\""
      ]
     },
     "execution_count": 40,
     "metadata": {},
     "output_type": "execute_result"
    }
   ],
   "source": [
    "responseFromChatbot = chatbot_with_message_history.invoke(\n",
    "    (\"HumanMessage\",\"What's my favorite color?\"),\n",
    "    config=session1,\n",
    ")\n",
    "responseFromChatbot.content"
   ]
  },
  {
   "cell_type": "code",
   "execution_count": 41,
   "metadata": {},
   "outputs": [
    {
     "data": {
      "text/plain": [
       "\"Kadi is delicious! It's a popular dish in Indian cuisine, often made with yogurt and gram flour, and usually served with rice. Do you have a favorite way of preparing it or any particular ingredients you like to add?\""
      ]
     },
     "execution_count": 41,
     "metadata": {},
     "output_type": "execute_result"
    }
   ],
   "source": [
    "responseFromChatbot = chatbot_with_message_history.invoke(\n",
    "    (\"HumanMessage\",\"My favorite food is Kadi\"),\n",
    "    config=session2,\n",
    ")\n",
    "responseFromChatbot.content"
   ]
  },
  {
   "cell_type": "code",
   "execution_count": 42,
   "metadata": {},
   "outputs": [
    {
     "data": {
      "text/plain": [
       "\"You mentioned that your favorite food is Kadi! It's a great choice. Do you enjoy it with any specific sides or accompaniments?\""
      ]
     },
     "execution_count": 42,
     "metadata": {},
     "output_type": "execute_result"
    }
   ],
   "source": [
    "responseFromChatbot = chatbot_with_message_history.invoke(\n",
    "    (\"HumanMessage\",\"Which is my favorite food?\"),\n",
    "    config=session2,\n",
    ")\n",
    "responseFromChatbot.content"
   ]
  },
  {
   "cell_type": "code",
   "execution_count": 43,
   "metadata": {},
   "outputs": [
    {
     "name": "stdout",
     "output_type": "stream",
     "text": [
      "{'001': InMemoryChatMessageHistory(messages=[HumanMessage(content='My favorite color is red.'), AIMessage(content=\"That's great! Red is a vibrant and powerful color often associated with energy, passion, and love. Do you have a specific shade of red that you like, or do you enjoy it in general?\", response_metadata={'token_usage': {'completion_tokens': 40, 'prompt_tokens': 13, 'total_tokens': 53, 'completion_tokens_details': {'reasoning_tokens': 0}}, 'model_name': 'gpt-4o-mini-2024-07-18', 'system_fingerprint': 'fp_f85bea6784', 'finish_reason': 'stop', 'logprobs': None}, id='run-d9749443-d87d-4a83-bfc4-dd28cbd5f9d8-0', usage_metadata={'input_tokens': 13, 'output_tokens': 40, 'total_tokens': 53}), HumanMessage(content=\"What's my favorite color?\"), AIMessage(content='Your favorite color is red!', response_metadata={'token_usage': {'completion_tokens': 6, 'prompt_tokens': 66, 'total_tokens': 72, 'completion_tokens_details': {'reasoning_tokens': 0}}, 'model_name': 'gpt-4o-mini-2024-07-18', 'system_fingerprint': 'fp_74ba47b4ac', 'finish_reason': 'stop', 'logprobs': None}, id='run-6690b2bf-ef58-41e3-91f6-ed3ff247570c-0', usage_metadata={'input_tokens': 66, 'output_tokens': 6, 'total_tokens': 72}), HumanMessage(content='HumanMessage'), HumanMessage(content=\"What's my favorite color?\"), AIMessage(content=\"Your favorite color is red. If you'd like to share more about why you like it or how you use it in your life, I'd love to hear!\", response_metadata={'token_usage': {'completion_tokens': 31, 'prompt_tokens': 91, 'total_tokens': 122, 'completion_tokens_details': {'reasoning_tokens': 0}}, 'model_name': 'gpt-4o-mini-2024-07-18', 'system_fingerprint': 'fp_f85bea6784', 'finish_reason': 'stop', 'logprobs': None}, id='run-572fa922-40e3-477a-807c-dcd50c791146-0', usage_metadata={'input_tokens': 91, 'output_tokens': 31, 'total_tokens': 122})]), '002': InMemoryChatMessageHistory(messages=[HumanMessage(content='HumanMessage'), HumanMessage(content=\"What's my favorite color?\"), AIMessage(content=\"I'm not sure what your favorite color is! If you tell me, I'd love to hear about it.\", response_metadata={'token_usage': {'completion_tokens': 21, 'prompt_tokens': 18, 'total_tokens': 39, 'completion_tokens_details': {'reasoning_tokens': 0}}, 'model_name': 'gpt-4o-mini-2024-07-18', 'system_fingerprint': 'fp_f85bea6784', 'finish_reason': 'stop', 'logprobs': None}, id='run-6f7fb372-4e5f-4ca1-bbbe-3990816bb22e-0', usage_metadata={'input_tokens': 18, 'output_tokens': 21, 'total_tokens': 39}), HumanMessage(content='HumanMessage'), HumanMessage(content='My favorite food is Kadi'), AIMessage(content=\"Kadi is delicious! It's a popular dish in Indian cuisine, often made with yogurt and gram flour, and usually served with rice. Do you have a favorite way of preparing it or any particular ingredients you like to add?\", response_metadata={'token_usage': {'completion_tokens': 45, 'prompt_tokens': 59, 'total_tokens': 104, 'completion_tokens_details': {'reasoning_tokens': 0}}, 'model_name': 'gpt-4o-mini-2024-07-18', 'system_fingerprint': 'fp_f85bea6784', 'finish_reason': 'stop', 'logprobs': None}, id='run-a06f4521-9c06-4951-8774-30c309bebfd1-0', usage_metadata={'input_tokens': 59, 'output_tokens': 45, 'total_tokens': 104}), HumanMessage(content='HumanMessage'), HumanMessage(content='Which is my favorite food?'), AIMessage(content=\"You mentioned that your favorite food is Kadi! It's a great choice. Do you enjoy it with any specific sides or accompaniments?\", response_metadata={'token_usage': {'completion_tokens': 28, 'prompt_tokens': 124, 'total_tokens': 152, 'completion_tokens_details': {'reasoning_tokens': 0}}, 'model_name': 'gpt-4o-mini-2024-07-18', 'system_fingerprint': 'fp_1bb46167f9', 'finish_reason': 'stop', 'logprobs': None}, id='run-434bbdc1-61e8-4b05-9e02-738f215e2857-0', usage_metadata={'input_tokens': 124, 'output_tokens': 28, 'total_tokens': 152})])}\n"
     ]
    }
   ],
   "source": [
    "print(history)"
   ]
  },
  {
   "cell_type": "code",
   "execution_count": 44,
   "metadata": {},
   "outputs": [],
   "source": [
    "session3 = {\"configurable\": {\"abc\": \"003\"}}"
   ]
  },
  {
   "cell_type": "markdown",
   "metadata": {},
   "source": [
    "CHatbot with Limited Memory"
   ]
  },
  {
   "cell_type": "code",
   "execution_count": 60,
   "metadata": {},
   "outputs": [
    {
     "data": {
      "text/plain": [
       "\"Vespa scooters are indeed a fantastic choice! Their combination of style, practicality, and ease of use makes them a favorite for many. Whether you're navigating through city streets or enjoying a leisurely ride, Vespas offer a unique experience. What do you love most about them? Do you have a particular model in mind?\""
      ]
     },
     "execution_count": 60,
     "metadata": {},
     "output_type": "execute_result"
    }
   ],
   "source": [
    "from langchain_core.prompts import ChatPromptTemplate, MessagesPlaceholder\n",
    "from langchain_core.runnables import RunnablePassthrough\n",
    "\t\n",
    "def limited_memory_of_messages(messages, number_of_messages_to_keep=2):\n",
    "    if len(messages) < number_of_messages_to_keep:\n",
    "        return messages  # Return all if less than the limit\n",
    "    return messages[-number_of_messages_to_keep:]\n",
    "\n",
    "prompt = ChatPromptTemplate.from_messages(\n",
    "    [\n",
    "        (\"system\", \"You are a helpful assistant. Answer all questions to the best of your ability.\"),\n",
    "        MessagesPlaceholder(variable_name=\"messages\"),\n",
    "    ]\n",
    ")\n",
    "\n",
    "limitedMemoryChain = (\n",
    "    # x is input & it is a dictionary with key \"messages\" and value as list of messages along with other information\n",
    "    # lambda x: limited_messages(x[\"messages\"]) is a function that takes x as input and returns limited_messages(x[\"messages\"])\n",
    "    # then this messages are passed to prompt\n",
    "    RunnablePassthrough.assign(messages=lambda x: limited_memory_of_messages(x[\"messages\"]))\n",
    "    # Prompt has messages place holder which is replaced by messages from previous step\n",
    "    | prompt \n",
    "    | chatbot\n",
    ")\n",
    "# This is a runnable with message history which creates input where messages are stored in \"messages\" key\n",
    "chatbot_with_limited_message_history = RunnableWithMessageHistory(\n",
    "    limitedMemoryChain,\n",
    "    get_by_session_id,\n",
    "    input_messages_key=\"messages\",\n",
    ")\n",
    "session1 = {\"configurable\": {\"session_id\": \"001\"}}\n",
    "responseFromChatbot = chatbot_with_message_history.invoke(\n",
    "    [HumanMessage(content=\"My favorite vehicles are Vespa scooters.\")],\n",
    "    config=session1,\n",
    ")\n",
    "responseFromChatbot.content"
   ]
  },
  {
   "cell_type": "code",
   "execution_count": 61,
   "metadata": {},
   "outputs": [
    {
     "data": {
      "text/plain": [
       "\"Pali is a beautiful city! Known for its rich history and stunning landscapes, it offers a unique blend of cultural heritage and natural beauty. Whether you're interested in exploring historical sites, enjoying local cuisine, or experiencing the vibrant community, there's a lot to appreciate in Pali. What do you love most about the city?\""
      ]
     },
     "execution_count": 61,
     "metadata": {},
     "output_type": "execute_result"
    }
   ],
   "source": [
    "responseFromChatbot = chatbot_with_message_history.invoke(\n",
    "    [HumanMessage(content=\"My favorite city is Pali.\")],\n",
    "    config=session1,\n",
    ")\n",
    "responseFromChatbot.content"
   ]
  },
  {
   "cell_type": "code",
   "execution_count": 62,
   "metadata": {},
   "outputs": [
    {
     "data": {
      "text/plain": [
       "\"I don't know your favorite color, but I'd love to hear about it! Do you have a particular color that you love or that resonates with you?\""
      ]
     },
     "execution_count": 62,
     "metadata": {},
     "output_type": "execute_result"
    }
   ],
   "source": [
    "responseFromChatbot = chatbot_with_message_history.invoke(\n",
    "    [HumanMessage(content=\"Tell me my favorite color.\")],\n",
    "    config=session1,\n",
    ")\n",
    "responseFromChatbot.content"
   ]
  },
  {
   "cell_type": "code",
   "execution_count": null,
   "metadata": {},
   "outputs": [],
   "source": []
  }
 ],
 "metadata": {
  "kernelspec": {
   "display_name": "venv",
   "language": "python",
   "name": "python3"
  },
  "language_info": {
   "codemirror_mode": {
    "name": "ipython",
    "version": 3
   },
   "file_extension": ".py",
   "mimetype": "text/x-python",
   "name": "python",
   "nbconvert_exporter": "python",
   "pygments_lexer": "ipython3",
   "version": "3.10.12"
  }
 },
 "nbformat": 4,
 "nbformat_minor": 2
}
