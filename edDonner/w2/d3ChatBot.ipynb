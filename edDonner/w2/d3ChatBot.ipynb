{
 "cells": [
  {
   "cell_type": "code",
   "execution_count": 1,
   "id": "a7fb4c32-ae68-4c70-81b6-a47ca585f10c",
   "metadata": {},
   "outputs": [],
   "source": [
    "from dotenv import load_dotenv\n",
    "from openai import OpenAI\n",
    "import gradio as gr"
   ]
  },
  {
   "cell_type": "code",
   "execution_count": 2,
   "id": "960be4bc-b13d-4494-858a-bdd3674d8040",
   "metadata": {},
   "outputs": [],
   "source": [
    "# Load environment variables in a file called .env\n",
    "\n",
    "load_dotenv()\n",
    "openai=OpenAI()"
   ]
  },
  {
   "cell_type": "code",
   "execution_count": 3,
   "id": "56032630-806a-43cb-bad8-2cb89cae3ba8",
   "metadata": {},
   "outputs": [],
   "source": [
    "MODEL=\"gpt-4o-mini\""
   ]
  },
  {
   "cell_type": "code",
   "execution_count": 4,
   "id": "a8d075c3-395d-4331-ad18-8c052f1e84ec",
   "metadata": {},
   "outputs": [],
   "source": [
    "system_message=\"You are a helpful assistant\""
   ]
  },
  {
   "cell_type": "markdown",
   "id": "4802818c-2570-4b17-ab37-9e78549458be",
   "metadata": {},
   "source": [
    "Reminder of the structure of prompt messages to OpenAI: <br /> \n",
    "[\n",
    "    {\"role\": \"system\", \"content\": \"system message here\"},\n",
    "    {\"role\": \"user\", \"content\": \"first user prompt here\"},\n",
    "    {\"role\": \"assistant\", \"content\": \"the assistant's response\"},\n",
    "    {\"role\": \"user\", \"content\": \"the new user prompt\"},\n",
    "]<br /> \n",
    "We will write a function chat(message, history) where: message is the prompt to use, history is a list of pairs of user message with assistant's reply. Gradio feed history in below format\n",
    "<br /> \n",
    "[\n",
    "    [\"user said this\", \"assistant replied\"],\n",
    "    [\"then user said this\", \"and assistant replied again],\n",
    "    ...\n",
    "]\n",
    "<br /> \n",
    "We will convert this history into the prompt style for OpenAI, then call OpenAI."
   ]
  },
  {
   "cell_type": "code",
   "execution_count": 16,
   "id": "b6e1a19e-198c-47b1-bedc-fecc1ff300b7",
   "metadata": {},
   "outputs": [],
   "source": [
    "def chat(message, history):\n",
    "    # messages=[{\"role\":\"system\",\"content\":system_message}]\n",
    "    # for user_msg,ai_msg in history:\n",
    "    #     messages.append({\"role\":\"user\",\"content\":user_msg})\n",
    "    #     messages.append({\"role\":\"assistant\",\"content\":ai_msg})\n",
    "    # messages.append({\"role\":\"user\",\"content\":message})\n",
    "    print(history)\n",
    "    \n",
    "    history.append({\"role\":\"user\",\"content\":message})\n",
    "    s=openai.chat.completions.create(\n",
    "        messages=history,\n",
    "        model=MODEL,\n",
    "        stream=True\n",
    "    )\n",
    "    r=\"\"\n",
    "    for c in s:\n",
    "        r+=c.choices[0].delta.content or ''\n",
    "        yield r"
   ]
  },
  {
   "cell_type": "code",
   "execution_count": 17,
   "id": "fde0cd7c-6b22-4726-b90f-2ee85ae3b11f",
   "metadata": {},
   "outputs": [
    {
     "name": "stdout",
     "output_type": "stream",
     "text": [
      "* Running on local URL:  http://127.0.0.1:7865\n",
      "\n",
      "To create a public link, set `share=True` in `launch()`.\n"
     ]
    },
    {
     "data": {
      "text/html": [
       "<div><iframe src=\"http://127.0.0.1:7865/\" width=\"100%\" height=\"500\" allow=\"autoplay; camera; microphone; clipboard-read; clipboard-write;\" frameborder=\"0\" allowfullscreen></iframe></div>"
      ],
      "text/plain": [
       "<IPython.core.display.HTML object>"
      ]
     },
     "metadata": {},
     "output_type": "display_data"
    },
    {
     "data": {
      "text/plain": []
     },
     "execution_count": 17,
     "metadata": {},
     "output_type": "execute_result"
    },
    {
     "name": "stdout",
     "output_type": "stream",
     "text": [
      "[]\n",
      "[{'role': 'user', 'metadata': {'title': None}, 'content': 'hi'}, {'role': 'assistant', 'metadata': {'title': None}, 'content': 'Hello! How can I assist you today?'}]\n",
      "[{'role': 'user', 'metadata': {'title': None}, 'content': 'hi'}, {'role': 'assistant', 'metadata': {'title': None}, 'content': 'Hello! How can I assist you today?'}, {'role': 'user', 'metadata': {'title': None}, 'content': 'Tell me a joke'}, {'role': 'assistant', 'metadata': {'title': None}, 'content': 'Why did the scarecrow win an award?\\n\\nBecause he was outstanding in his field!'}]\n",
      "[{'role': 'user', 'metadata': {'title': None}, 'content': 'hi'}, {'role': 'assistant', 'metadata': {'title': None}, 'content': 'Hello! How can I assist you today?'}, {'role': 'user', 'metadata': {'title': None}, 'content': 'Tell me a joke'}, {'role': 'assistant', 'metadata': {'title': None}, 'content': 'Why did the scarecrow win an award?\\n\\nBecause he was outstanding in his field!'}, {'role': 'user', 'metadata': {'title': None}, 'content': 'tell me another one'}, {'role': 'assistant', 'metadata': {'title': None}, 'content': \"Sure! Why don't skeletons fight each other?\\n\\nThey don't have the guts!\"}]\n",
      "[{'role': 'user', 'metadata': {'title': None}, 'content': 'hi'}, {'role': 'assistant', 'metadata': {'title': None}, 'content': 'Hello! How can I assist you today?'}, {'role': 'user', 'metadata': {'title': None}, 'content': 'Tell me a joke'}, {'role': 'assistant', 'metadata': {'title': None}, 'content': 'Why did the scarecrow win an award?\\n\\nBecause he was outstanding in his field!'}, {'role': 'user', 'metadata': {'title': None}, 'content': 'tell me another one'}, {'role': 'assistant', 'metadata': {'title': None}, 'content': \"Sure! Why don't skeletons fight each other?\\n\\nThey don't have the guts!\"}]\n"
     ]
    }
   ],
   "source": [
    "gr.ChatInterface(fn=chat, type=\"messages\").launch()"
   ]
  },
  {
   "cell_type": "code",
   "execution_count": 18,
   "id": "5bcc6a66-f188-4683-add0-0381abd0a7f7",
   "metadata": {},
   "outputs": [],
   "source": [
    "#Below is one shot prompting where we gave example to LLM\n",
    "system_message=\"You are great sales executive at fashion store. All items except shoes are on 50 % sale and hats are on 60%\\\n",
    "discount. you should gently encourage customer to buy items on sale esp. hats. And if customer is not sure what to \\\n",
    "buy encourage them to buy hats. For example, customer asks 'What is best thing to buy', then you can say all things \\\n",
    "are wonderful if you waant to have best deal buy hats.\""
   ]
  },
  {
   "cell_type": "code",
   "execution_count": 21,
   "id": "3f68c8da-dbcf-4107-9f82-a2b7b9474101",
   "metadata": {},
   "outputs": [],
   "source": [
    "def chat(user_input,past):\n",
    "    past.append({\"role\":\"system\",\"content\":system_message})\n",
    "    past.append({\"role\":\"user\",\"content\":user_input})\n",
    "    s=openai.chat.completions.create(\n",
    "        messages=past,\n",
    "        model=MODEL,\n",
    "        stream=True\n",
    "    )\n",
    "    r=\"\"\n",
    "    for c in s:\n",
    "        r+=c.choices[0].delta.content or ''\n",
    "        yield r\n",
    "    "
   ]
  },
  {
   "cell_type": "code",
   "execution_count": 22,
   "id": "4fc56929-817d-41e2-b2d7-093f3d1623c8",
   "metadata": {},
   "outputs": [
    {
     "name": "stdout",
     "output_type": "stream",
     "text": [
      "* Running on local URL:  http://127.0.0.1:7867\n",
      "\n",
      "To create a public link, set `share=True` in `launch()`.\n"
     ]
    },
    {
     "data": {
      "text/html": [
       "<div><iframe src=\"http://127.0.0.1:7867/\" width=\"100%\" height=\"500\" allow=\"autoplay; camera; microphone; clipboard-read; clipboard-write;\" frameborder=\"0\" allowfullscreen></iframe></div>"
      ],
      "text/plain": [
       "<IPython.core.display.HTML object>"
      ]
     },
     "metadata": {},
     "output_type": "display_data"
    },
    {
     "data": {
      "text/plain": []
     },
     "execution_count": 22,
     "metadata": {},
     "output_type": "execute_result"
    }
   ],
   "source": [
    "gr.ChatInterface(fn=chat, type=\"messages\").launch()"
   ]
  },
  {
   "cell_type": "code",
   "execution_count": 25,
   "id": "bf7e2634-6fb0-420d-a52f-8c66f2bfc5ae",
   "metadata": {},
   "outputs": [],
   "source": [
    "#old style\n",
    "def chat(message, history):\n",
    "    messages = [{\"role\": \"system\", \"content\": system_message}]\n",
    "    for user_message, assistant_message in history:\n",
    "        messages.append({\"role\": \"user\", \"content\": user_message})\n",
    "        messages.append({\"role\": \"assistant\", \"content\": assistant_message})\n",
    "\n",
    "    if 'belt' in message:\n",
    "        messages.append({\"role\": \"system\", \"content\": \"For added context, the store does not sell belts, \\\n",
    "but be sure to point out other items on sale\"})\n",
    "    \n",
    "    messages.append({\"role\": \"user\", \"content\": message})\n",
    "\n",
    "    stream = openai.chat.completions.create(model=MODEL, messages=messages, stream=True)\n",
    "\n",
    "    response = \"\"\n",
    "    for chunk in stream:\n",
    "        response += chunk.choices[0].delta.content or ''\n",
    "        yield response"
   ]
  },
  {
   "cell_type": "code",
   "execution_count": 26,
   "id": "a4a55382-8b36-46a6-bc6e-6acea3094fe2",
   "metadata": {},
   "outputs": [
    {
     "name": "stderr",
     "output_type": "stream",
     "text": [
      "/home/vboxuser/repos/llm/edDonner/venv/lib/python3.10/site-packages/gradio/components/chatbot.py:228: UserWarning: The 'tuples' format for chatbot messages is deprecated and will be removed in a future version of Gradio. Please set type='messages' instead, which uses openai-style 'role' and 'content' keys.\n",
      "  warnings.warn(\n"
     ]
    },
    {
     "name": "stdout",
     "output_type": "stream",
     "text": [
      "* Running on local URL:  http://127.0.0.1:7869\n",
      "\n",
      "To create a public link, set `share=True` in `launch()`.\n"
     ]
    },
    {
     "data": {
      "text/html": [
       "<div><iframe src=\"http://127.0.0.1:7869/\" width=\"100%\" height=\"500\" allow=\"autoplay; camera; microphone; clipboard-read; clipboard-write;\" frameborder=\"0\" allowfullscreen></iframe></div>"
      ],
      "text/plain": [
       "<IPython.core.display.HTML object>"
      ]
     },
     "metadata": {},
     "output_type": "display_data"
    },
    {
     "data": {
      "text/plain": []
     },
     "execution_count": 26,
     "metadata": {},
     "output_type": "execute_result"
    }
   ],
   "source": [
    "gr.ChatInterface(fn=chat).launch()"
   ]
  },
  {
   "cell_type": "code",
   "execution_count": null,
   "id": "f20a488e-5420-4313-a1bb-334ceb0e5364",
   "metadata": {},
   "outputs": [],
   "source": []
  }
 ],
 "metadata": {
  "kernelspec": {
   "display_name": "Python 3 (ipykernel)",
   "language": "python",
   "name": "python3"
  },
  "language_info": {
   "codemirror_mode": {
    "name": "ipython",
    "version": 3
   },
   "file_extension": ".py",
   "mimetype": "text/x-python",
   "name": "python",
   "nbconvert_exporter": "python",
   "pygments_lexer": "ipython3",
   "version": "3.10.12"
  }
 },
 "nbformat": 4,
 "nbformat_minor": 5
}
