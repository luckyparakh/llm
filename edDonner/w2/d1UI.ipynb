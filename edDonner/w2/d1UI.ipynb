{
 "cells": [
  {
   "cell_type": "code",
   "execution_count": 2,
   "id": "6af7b7de-0b46-4717-8a96-4d72d3890acd",
   "metadata": {},
   "outputs": [],
   "source": [
    "import os\n",
    "import requests\n",
    "from bs4 import BeautifulSoup\n",
    "from typing import List\n",
    "from dotenv import load_dotenv,find_dotenv\n",
    "from openai import OpenAI\n",
    "import gradio as gr"
   ]
  },
  {
   "cell_type": "code",
   "execution_count": 4,
   "id": "c7be725e-a223-4d47-baf2-f3e7d440ccb4",
   "metadata": {},
   "outputs": [],
   "source": [
    "_=load_dotenv(find_dotenv())\n",
    "openai = OpenAI()"
   ]
  },
  {
   "cell_type": "code",
   "execution_count": 5,
   "id": "9398db1f-1b13-4c34-9812-a9e4937e41e6",
   "metadata": {},
   "outputs": [],
   "source": [
    "system_message = \"You are a helpful assistant\""
   ]
  },
  {
   "cell_type": "code",
   "execution_count": 6,
   "id": "456d4d3a-6f8a-4634-86a2-479a129055d5",
   "metadata": {},
   "outputs": [],
   "source": [
    "MODEL=\"gpt-4o-mini\"\n",
    "def message_gpt(prompt):\n",
    "    messages=[\n",
    "        {\"role\":\"system\",\"content\":system_message},\n",
    "        {\"role\":\"user\",\"content\":prompt}\n",
    "    ]\n",
    "    c=openai.chat.completions.create(\n",
    "        messages=messages,\n",
    "        model=MODEL\n",
    "    )\n",
    "    return c.choices[0].message.content"
   ]
  },
  {
   "cell_type": "code",
   "execution_count": 7,
   "id": "38b3a1cc-0de1-46c6-a93b-0010a6566295",
   "metadata": {},
   "outputs": [
    {
     "data": {
      "text/plain": [
       "\"Today's date is October 9, 2023.\""
      ]
     },
     "execution_count": 7,
     "metadata": {},
     "output_type": "execute_result"
    }
   ],
   "source": [
    "message_gpt(\"What is today's date?\")"
   ]
  },
  {
   "cell_type": "code",
   "execution_count": 11,
   "id": "81600897-ed83-4c3a-8c86-38d8503cd8a7",
   "metadata": {},
   "outputs": [
    {
     "name": "stdout",
     "output_type": "stream",
     "text": [
      "* Running on local URL:  http://127.0.0.1:7860\n",
      "\n",
      "To create a public link, set `share=True` in `launch()`.\n"
     ]
    },
    {
     "data": {
      "text/html": [
       "<div><iframe src=\"http://127.0.0.1:7860/\" width=\"100%\" height=\"500\" allow=\"autoplay; camera; microphone; clipboard-read; clipboard-write;\" frameborder=\"0\" allowfullscreen></iframe></div>"
      ],
      "text/plain": [
       "<IPython.core.display.HTML object>"
      ]
     },
     "metadata": {},
     "output_type": "display_data"
    },
    {
     "data": {
      "text/plain": []
     },
     "execution_count": 11,
     "metadata": {},
     "output_type": "execute_result"
    }
   ],
   "source": [
    "def shout(t:str):\n",
    "    return t.upper()\n",
    "gr.Interface(fn=shout,inputs=\"textbox\",outputs=\"textbox\").launch()"
   ]
  },
  {
   "cell_type": "code",
   "execution_count": 14,
   "id": "0d8012da-6fb3-41f5-b5e9-27a0a61bcdf9",
   "metadata": {
    "scrolled": true
   },
   "outputs": [
    {
     "name": "stdout",
     "output_type": "stream",
     "text": [
      "* Running on local URL:  http://127.0.0.1:7861\n",
      "* Running on public URL: https://0f62e8549dbe4a34ec.gradio.live\n",
      "\n",
      "This share link expires in 72 hours. For free permanent hosting and GPU upgrades, run `gradio deploy` from the terminal in the working directory to deploy to Hugging Face Spaces (https://huggingface.co/spaces)\n"
     ]
    },
    {
     "data": {
      "text/html": [
       "<div><iframe src=\"https://0f62e8549dbe4a34ec.gradio.live\" width=\"100%\" height=\"500\" allow=\"autoplay; camera; microphone; clipboard-read; clipboard-write;\" frameborder=\"0\" allowfullscreen></iframe></div>"
      ],
      "text/plain": [
       "<IPython.core.display.HTML object>"
      ]
     },
     "metadata": {},
     "output_type": "display_data"
    },
    {
     "data": {
      "text/plain": []
     },
     "execution_count": 14,
     "metadata": {},
     "output_type": "execute_result"
    }
   ],
   "source": [
    "ui=gr.Interface(fn=shout,inputs=\"textbox\",outputs=\"textbox\",allow_flagging=\"never\")\n",
    "ui.launch(share=True)"
   ]
  },
  {
   "cell_type": "code",
   "execution_count": 16,
   "id": "db06e3b9-eb2f-4cd6-8473-9c9099263bf9",
   "metadata": {},
   "outputs": [
    {
     "name": "stdout",
     "output_type": "stream",
     "text": [
      "* Running on local URL:  http://127.0.0.1:7863\n",
      "\n",
      "To create a public link, set `share=True` in `launch()`.\n"
     ]
    },
    {
     "data": {
      "text/html": [
       "<div><iframe src=\"http://127.0.0.1:7863/\" width=\"100%\" height=\"500\" allow=\"autoplay; camera; microphone; clipboard-read; clipboard-write;\" frameborder=\"0\" allowfullscreen></iframe></div>"
      ],
      "text/plain": [
       "<IPython.core.display.HTML object>"
      ]
     },
     "metadata": {},
     "output_type": "display_data"
    },
    {
     "data": {
      "text/plain": []
     },
     "execution_count": 16,
     "metadata": {},
     "output_type": "execute_result"
    }
   ],
   "source": [
    "v=gr.Interface(\n",
    "    inputs=[gr.Textbox(label=\"input\",lines=6)],\n",
    "    outputs=[gr.Textbox(label=\"output\",lines=6)],\n",
    "    fn=shout,\n",
    ")\n",
    "v.launch()"
   ]
  },
  {
   "cell_type": "code",
   "execution_count": 20,
   "id": "87e9dd2b-a1a1-435a-bbce-4cf618595d6f",
   "metadata": {},
   "outputs": [
    {
     "name": "stderr",
     "output_type": "stream",
     "text": [
      "/home/vboxuser/repos/llm/edDonner/venv/lib/python3.10/site-packages/gradio/interface.py:393: UserWarning: The `allow_flagging` parameter in `Interface` is deprecated.Use `flagging_mode` instead.\n",
      "  warnings.warn(\n"
     ]
    },
    {
     "name": "stdout",
     "output_type": "stream",
     "text": [
      "* Running on local URL:  http://127.0.0.1:7866\n",
      "\n",
      "To create a public link, set `share=True` in `launch()`.\n"
     ]
    },
    {
     "data": {
      "text/html": [
       "<div><iframe src=\"http://127.0.0.1:7866/\" width=\"100%\" height=\"500\" allow=\"autoplay; camera; microphone; clipboard-read; clipboard-write;\" frameborder=\"0\" allowfullscreen></iframe></div>"
      ],
      "text/plain": [
       "<IPython.core.display.HTML object>"
      ]
     },
     "metadata": {},
     "output_type": "display_data"
    },
    {
     "data": {
      "text/plain": []
     },
     "execution_count": 20,
     "metadata": {},
     "output_type": "execute_result"
    }
   ],
   "source": [
    "v=gr.Interface(\n",
    "    inputs=[gr.Textbox(label=\"Message\",lines=6)],\n",
    "    outputs=[gr.Markdown(label=\"Output\")],\n",
    "    fn=message_gpt,\n",
    "    allow_flagging=\"never\"\n",
    ")\n",
    "v.launch()"
   ]
  },
  {
   "cell_type": "code",
   "execution_count": 28,
   "id": "1ca4de2b-dfca-4712-aa0a-eba6aff91cae",
   "metadata": {},
   "outputs": [],
   "source": [
    "def stream_gpt(user_input:str):\n",
    "    s=openai.chat.completions.create(\n",
    "        messages=[\n",
    "            {\"role\":\"system\",\"content\":\"You are a helpful assistant that responds in markdown\"},\n",
    "            {\"role\":\"user\",\"content\":user_input}\n",
    "        ],\n",
    "        model=MODEL,\n",
    "        stream=True\n",
    "    )\n",
    "    result=\"\"\n",
    "    for chunk in s:\n",
    "        result+=chunk.choices[0].delta.content or \"\"\n",
    "        # yield chunk.choices[0].delta.content # This will print one chunk in UI and will not get full text at once, try uncomment & see\n",
    "        yield result"
   ]
  },
  {
   "cell_type": "code",
   "execution_count": 29,
   "id": "5405ea22-b328-434d-855f-a5a2449c2a3b",
   "metadata": {},
   "outputs": [
    {
     "name": "stderr",
     "output_type": "stream",
     "text": [
      "/home/vboxuser/repos/llm/edDonner/venv/lib/python3.10/site-packages/gradio/interface.py:393: UserWarning: The `allow_flagging` parameter in `Interface` is deprecated.Use `flagging_mode` instead.\n",
      "  warnings.warn(\n"
     ]
    },
    {
     "name": "stdout",
     "output_type": "stream",
     "text": [
      "* Running on local URL:  http://127.0.0.1:7870\n",
      "\n",
      "To create a public link, set `share=True` in `launch()`.\n"
     ]
    },
    {
     "data": {
      "text/html": [
       "<div><iframe src=\"http://127.0.0.1:7870/\" width=\"100%\" height=\"500\" allow=\"autoplay; camera; microphone; clipboard-read; clipboard-write;\" frameborder=\"0\" allowfullscreen></iframe></div>"
      ],
      "text/plain": [
       "<IPython.core.display.HTML object>"
      ]
     },
     "metadata": {},
     "output_type": "display_data"
    },
    {
     "data": {
      "text/plain": []
     },
     "execution_count": 29,
     "metadata": {},
     "output_type": "execute_result"
    }
   ],
   "source": [
    "v=gr.Interface(\n",
    "    inputs=[gr.Textbox(label=\"Message\",lines=6)],\n",
    "    outputs=[gr.Markdown(label=\"Output\")],\n",
    "    fn=stream_gpt,\n",
    "    allow_flagging=\"never\"\n",
    ")\n",
    "v.launch()"
   ]
  },
  {
   "cell_type": "code",
   "execution_count": 42,
   "id": "3c6ad52f-9798-4864-ae4e-dcde860ebf22",
   "metadata": {},
   "outputs": [],
   "source": [
    "def select_model(prompt,model):\n",
    "\n",
    "    print(prompt,model)\n",
    "    if model==\"GPT\":\n",
    "        result=stream_gpt(prompt)\n",
    "    else:\n",
    "        raise ValueError(\"Unknown Model\")\n",
    "    for chunk in result:\n",
    "        yield chunk"
   ]
  },
  {
   "cell_type": "code",
   "execution_count": 43,
   "id": "65e73ad3-ce1b-44d3-9c51-eff0732e5f15",
   "metadata": {},
   "outputs": [
    {
     "name": "stderr",
     "output_type": "stream",
     "text": [
      "/home/vboxuser/repos/llm/edDonner/venv/lib/python3.10/site-packages/gradio/interface.py:393: UserWarning: The `allow_flagging` parameter in `Interface` is deprecated.Use `flagging_mode` instead.\n",
      "  warnings.warn(\n"
     ]
    },
    {
     "name": "stdout",
     "output_type": "stream",
     "text": [
      "* Running on local URL:  http://127.0.0.1:7879\n",
      "\n",
      "To create a public link, set `share=True` in `launch()`.\n"
     ]
    },
    {
     "data": {
      "text/html": [
       "<div><iframe src=\"http://127.0.0.1:7879/\" width=\"100%\" height=\"500\" allow=\"autoplay; camera; microphone; clipboard-read; clipboard-write;\" frameborder=\"0\" allowfullscreen></iframe></div>"
      ],
      "text/plain": [
       "<IPython.core.display.HTML object>"
      ]
     },
     "metadata": {},
     "output_type": "display_data"
    },
    {
     "data": {
      "text/plain": []
     },
     "execution_count": 43,
     "metadata": {},
     "output_type": "execute_result"
    },
    {
     "name": "stdout",
     "output_type": "stream",
     "text": [
      "how to reach india from Mars GPT\n"
     ]
    }
   ],
   "source": [
    "view = gr.Interface(\n",
    "    fn=select_model,\n",
    "    inputs=[\n",
    "        gr.Textbox(label=\"Your message:\"),\n",
    "        gr.Dropdown([\"GPT\", \"Claude\"], label=\"Select model\")\n",
    "    ],\n",
    "    outputs=[gr.Markdown(label=\"Response:\")],\n",
    "    allow_flagging=\"never\"\n",
    ")\n",
    "view.launch()\n"
   ]
  },
  {
   "cell_type": "code",
   "execution_count": 44,
   "id": "e364ade0-4202-427d-9ef7-b7ae48c2ebc6",
   "metadata": {},
   "outputs": [],
   "source": [
    "class Website():\n",
    "    url: str\n",
    "    title: str\n",
    "    body: str\n",
    "    links: List[str]\n",
    "    text: str\n",
    "\n",
    "    def __init__(self,url):\n",
    "        self.url=url\n",
    "        response=requests.get(url)\n",
    "        self.body=response.content\n",
    "        if response.status_code==200 and self.body!=\"\":\n",
    "            soup = BeautifulSoup(self.body,'html.parser')\n",
    "            self.title = soup.title.string if soup.title !=\"\" else \"No title found\"\n",
    "            for irrelavent in soup.body([\"script\", \"style\", \"img\", \"input\"]):\n",
    "                irrelavent.decompose()\n",
    "            self.text=soup.body.get_text(strip=True, separator='\\n')\n",
    "            links=[link.get('href') for link in soup.find_all('a')]\n",
    "            self.links= [link for link in links if link]\n",
    "        else:\n",
    "            self.title =\"\"\n",
    "            self.text=\"\"\n",
    "    def get_contents(self):\n",
    "         return f\"Webpage Title:\\n{self.title}\\nWebpage Contents:\\n{self.text}\\n\\n\"\n"
   ]
  },
  {
   "cell_type": "code",
   "execution_count": 51,
   "id": "a5eb66ab-f697-4062-9d0c-c420c180331c",
   "metadata": {},
   "outputs": [],
   "source": [
    "system_prompt=\"You are an assistant, helping to find relevant link from given website content and \\\n",
    "with help of these links you will create company brochure for future investors, partners and recruit. Respond in markdown\"\n",
    "\n",
    "def stream_brochure(company_name, url,tone):\n",
    "    prompt=f\"You have to create a company borchure for {company_name}. Use {tone} tone. Here website's text:\"\n",
    "    prompt+=Website(url).get_contents()\n",
    "    s=openai.chat.completions.create(\n",
    "        messages=[\n",
    "            {\"role\":\"system\",\"content\":system_prompt},\n",
    "            {\"role\":\"user\",\"content\":prompt}\n",
    "        ],\n",
    "        model=MODEL,\n",
    "        stream=True\n",
    "    )\n",
    "    result=\"\"\n",
    "    for chunk in s:\n",
    "        result+=chunk.choices[0].delta.content or \"\"\n",
    "        # yield chunk.choices[0].delta.content # This will print one chunk in UI and will not get full text at once, try uncomment & see\n",
    "        yield result"
   ]
  },
  {
   "cell_type": "code",
   "execution_count": 52,
   "id": "a5312fed-76c7-4b7d-a5f2-6f85b4e0bf57",
   "metadata": {},
   "outputs": [
    {
     "name": "stderr",
     "output_type": "stream",
     "text": [
      "/home/vboxuser/repos/llm/edDonner/venv/lib/python3.10/site-packages/gradio/interface.py:393: UserWarning: The `allow_flagging` parameter in `Interface` is deprecated.Use `flagging_mode` instead.\n",
      "  warnings.warn(\n"
     ]
    },
    {
     "name": "stdout",
     "output_type": "stream",
     "text": [
      "* Running on local URL:  http://127.0.0.1:7883\n",
      "\n",
      "To create a public link, set `share=True` in `launch()`.\n"
     ]
    },
    {
     "data": {
      "text/html": [
       "<div><iframe src=\"http://127.0.0.1:7883/\" width=\"100%\" height=\"500\" allow=\"autoplay; camera; microphone; clipboard-read; clipboard-write;\" frameborder=\"0\" allowfullscreen></iframe></div>"
      ],
      "text/plain": [
       "<IPython.core.display.HTML object>"
      ]
     },
     "metadata": {},
     "output_type": "display_data"
    },
    {
     "data": {
      "text/plain": []
     },
     "execution_count": 52,
     "metadata": {},
     "output_type": "execute_result"
    }
   ],
   "source": [
    "gr.Interface(\n",
    "    fn=stream_brochure,\n",
    "    outputs=[gr.Markdown(label=\"Output\")],\n",
    "    inputs=[gr.Text(label=\"company_name\"),gr.Textbox(label=\"Landing page URL:\"),gr.Dropdown([\"Formal\",\"Funny\"],label=\"Tone\")],\n",
    "    allow_flagging=\"never\"\n",
    ").launch()"
   ]
  },
  {
   "cell_type": "code",
   "execution_count": null,
   "id": "52da23a8-9be0-490c-b1d8-a0267eac16a4",
   "metadata": {},
   "outputs": [],
   "source": []
  }
 ],
 "metadata": {
  "kernelspec": {
   "display_name": "Python 3 (ipykernel)",
   "language": "python",
   "name": "python3"
  },
  "language_info": {
   "codemirror_mode": {
    "name": "ipython",
    "version": 3
   },
   "file_extension": ".py",
   "mimetype": "text/x-python",
   "name": "python",
   "nbconvert_exporter": "python",
   "pygments_lexer": "ipython3",
   "version": "3.10.12"
  }
 },
 "nbformat": 4,
 "nbformat_minor": 5
}
