{
 "cells": [
  {
   "cell_type": "code",
   "execution_count": 1,
   "metadata": {},
   "outputs": [],
   "source": [
    "import requests\n",
    "from dotenv import load_dotenv\n",
    "from bs4 import BeautifulSoup\n",
    "from IPython.display import Markdown, display\n",
    "from openai import OpenAI"
   ]
  },
  {
   "cell_type": "code",
   "execution_count": 2,
   "metadata": {},
   "outputs": [],
   "source": [
    "from httpx import request\n",
    "\n",
    "\n",
    "class Website:\n",
    "    url: str\n",
    "    title: str\n",
    "    text: str\n",
    "    def __init__(self, url):\n",
    "        self.url = url\n",
    "        response = requests.get(url)\n",
    "        if response.status_code == 200:\n",
    "            soup = BeautifulSoup(response.text, 'html.parser')\n",
    "            self.title = soup.title.string if soup.title else 'No title found'\n",
    "            for irrelevant in soup(['script', 'style']):\n",
    "                irrelevant.decompose()\n",
    "            self.text = soup.body.get_text(strip=True, separator='\\n')"
   ]
  },
  {
   "cell_type": "code",
   "execution_count": 3,
   "metadata": {},
   "outputs": [
    {
     "name": "stdout",
     "output_type": "stream",
     "text": [
      "Home - Edward Donner\n",
      "Home\n",
      "Outsmart\n",
      "An arena that pits LLMs against each other in a battle of diplomacy and deviousness\n",
      "About\n",
      "Posts\n",
      "Well, hi there.\n",
      "I’m Ed. I like writing code and experimenting with LLMs, and hopefully you’re here because you do too. I also enjoy DJing (but I’m badly out of practice), amateur electronic music production (\n",
      "very\n",
      "amateur) and losing myself in\n",
      "Hacker News\n",
      ", nodding my head sagely to things I only half understand.\n",
      "I’m the co-founder and CTO of\n",
      "Nebula.io\n",
      ". We’re applying AI to a field where it can make a massive, positive impact: helping people discover their potential and pursue their reason for being. Recruiters use our product today to source, understand, engage and manage talent. I’m previously the founder and CEO of AI startup untapt,\n",
      "acquired in 2021\n",
      ".\n",
      "We work with groundbreaking, proprietary LLMs verticalized for talent, we’ve\n",
      "patented\n",
      "our matching model, and our award-winning platform has happy customers and tons of press coverage.\n",
      "Connect\n",
      "with me for more!\n",
      "August 6, 2024\n",
      "Outsmart LLM Arena – a battle of diplomacy and deviousness\n",
      "June 26, 2024\n",
      "Choosing the Right LLM: Toolkit and Resources\n",
      "February 7, 2024\n",
      "Fine-tuning an LLM on your texts: a simulation of you\n",
      "January 31, 2024\n",
      "Fine-tuning an LLM on your texts: part 4 – QLoRA\n",
      "Navigation\n",
      "Home\n",
      "Outsmart\n",
      "An arena that pits LLMs against each other in a battle of diplomacy and deviousness\n",
      "About\n",
      "Posts\n",
      "Get in touch\n",
      "ed [at] edwarddonner [dot] com\n",
      "www.edwarddonner.com\n",
      "Follow me\n",
      "LinkedIn\n",
      "Twitter\n",
      "Facebook\n",
      "Subscribe to newsletter\n",
      "Type your email…\n",
      "Subscribe\n"
     ]
    }
   ],
   "source": [
    "ed = Website(\"https://edwarddonner.com\")\n",
    "print(ed.title)\n",
    "print(ed.text)"
   ]
  },
  {
   "cell_type": "code",
   "execution_count": 4,
   "metadata": {},
   "outputs": [],
   "source": [
    "system_prompt = \"You are an assistant for analyzing the website content & provide the short summary, ignoring the text related to navigation. Respond in markdown\"\n",
    "\n",
    "def user_prompt_for(website):\n",
    "    user_prompt = f\"You are looking at a website titled {website.title}\"\n",
    "    user_prompt += \"The contents of this website is as follows; \\\n",
    "please provide a short summary of this website in markdown. \\\n",
    "If it includes news or announcements, then summarize these too.\\n\\n\"\n",
    "    user_prompt += website.text\n",
    "    return user_prompt"
   ]
  },
  {
   "cell_type": "code",
   "execution_count": 5,
   "metadata": {},
   "outputs": [],
   "source": [
    "def message(website):\n",
    "    return [\n",
    "        {\n",
    "            \"role\": \"system\",\n",
    "            \"content\": system_prompt\n",
    "        },\n",
    "        {\n",
    "            \"role\": \"user\",\n",
    "            \"content\": user_prompt_for(website)\n",
    "        }\n",
    "    ]"
   ]
  },
  {
   "cell_type": "code",
   "execution_count": 7,
   "metadata": {},
   "outputs": [
    {
     "data": {
      "text/plain": [
       "\"# Summary of Edward Donner's Website\\n\\nThis website is dedicated to the interests and projects of Ed Donner, a tech enthusiast and co-founder of **Nebula.io**, a platform utilizing AI to enhance talent discovery and engagement. He has a passion for coding and experimenting with large language models (LLMs). The website provides insights into his work, particularly in the realm of AI and recruitment.\\n\\n## Key Content\\n\\n- **About Ed**: An introduction to Ed, highlighting his background in LLMs, tech startups, and his previous role as CEO of untapt.\\n- **Latest Posts**: \\n  - **August 6, 2024**: Announcement of the **Outsmart LLM Arena**, a competitive platform for LLMs focusing on diplomacy and strategy.\\n  - **June 26, 2024**: Guidance on **Choosing the Right LLM**, offering tools and resources.\\n  - **February 7, 2024**: Insights on **Fine-tuning an LLM** based on personal texts.\\n  - **January 31, 2024**: Continuation of fine-tuning discussion with a focus on **QLoRA**.\\n\\n## Conclusion\\n\\nThe website serves as a hub for Ed Donner's thoughts and developments in AI technology and offers resources for those interested in LLM applications and recruitment.\""
      ]
     },
     "execution_count": 7,
     "metadata": {},
     "output_type": "execute_result"
    }
   ],
   "source": [
    "_=load_dotenv()\n",
    "def summary(url):\n",
    "    website = Website(url)\n",
    "    # https://platform.openai.com/docs/api-reference/chat/object\n",
    "    response = OpenAI().chat.completions.create(\n",
    "        model=\"gpt-4o-mini\",\n",
    "        messages=message(website),\n",
    "    )\n",
    "    return response.choices[0].message.content\n",
    "summary(\"https://edwarddonner.com\")"
   ]
  },
  {
   "cell_type": "code",
   "execution_count": 9,
   "metadata": {},
   "outputs": [],
   "source": [
    "def display_summary(url):\n",
    "    markdown=summary(url)\n",
    "    display(Markdown(markdown))"
   ]
  },
  {
   "cell_type": "code",
   "execution_count": 10,
   "metadata": {},
   "outputs": [
    {
     "data": {
      "text/markdown": [
       "# Summary of CNN Website Content\n",
       "\n",
       "The CNN website focuses on providing **breaking news**, **latest updates**, and **videos** across a wide range of categories, including US news, world news, politics, business, health, entertainment, sports, and science. Here are some highlights from recent coverage:\n",
       "\n",
       "### Key News Highlights:\n",
       "- **US Politics**: \n",
       "  - Analysis of the neck-and-neck presidential race, focusing on undecided voters and early voting in battleground states like Georgia.\n",
       "  - Highlights of significant contributions from billionaires, including Elon Musk, to political campaigns.\n",
       "\n",
       "- **International Affairs**:\n",
       "  - Updates on the Israel-Hamas conflict and the Ukraine-Russia war, including exclusive insights into Ukraine's drone units targeting Russian territory.\n",
       "\n",
       "- **Business News**: \n",
       "  - Major historical fines imposed on Lufthansa for denying boarding to passengers.\n",
       "  - Updates on Boeing's financial struggles and its impacts.\n",
       "\n",
       "- **Entertainment**: \n",
       "  - Growing civil lawsuits against Sean 'Diddy' Combs.\n",
       "  - Mariah Carey has made headlines with a diva complaint.\n",
       "\n",
       "- **Sports**: \n",
       "  - Tom Brady's involvement with the Las Vegas Raiders ownership and updates on athlete injuries.\n",
       "\n",
       "### Additional Highlights:\n",
       "- Reports on the challenges faced by individuals during crises, such as California experiencing a series of earthquakes and impact stories from Gaza.\n",
       "- Unique human-interest stories, such as the changing cultural norms in China involving pet cafes.\n",
       "\n",
       "Overall, CNN serves as a rich source for alerts and discussions on current events and trends, all while inviting user feedback for advertising relevance and site usability."
      ],
      "text/plain": [
       "<IPython.core.display.Markdown object>"
      ]
     },
     "metadata": {},
     "output_type": "display_data"
    }
   ],
   "source": [
    "display_summary(\"https://cnn.com\")"
   ]
  },
  {
   "cell_type": "code",
   "execution_count": 11,
   "metadata": {},
   "outputs": [
    {
     "data": {
      "text/markdown": [
       "# Anthropic Website Summary\n",
       "\n",
       "Anthropic is an AI safety and research company based in San Francisco, focused on developing reliable and beneficial AI systems. The company emphasizes safety in artificial intelligence, with an interdisciplinary approach involving experts in machine learning, physics, policy, and product development.\n",
       "\n",
       "## Key Announcements\n",
       "- **Claude 3.5 Sonnet Release**: Announced on June 21, 2024, Claude 3.5 Sonnet is highlighted as the company’s most intelligent AI model available for users to interact with and build applications.\n",
       "- **Research Commitments**: Includes significant publications on AI safety, such as:\n",
       "  - **Constitutional AI: Harmlessness from AI Feedback** (Dec 15, 2022)\n",
       "  - **Core Views on AI Safety: When, Why, What, and How** (Mar 8, 2023)\n",
       "\n",
       "## Services Offered\n",
       "- **API**: Users can leverage Claude through an API to enhance efficiency and generate new revenue opportunities.\n",
       "- **Employment**: Anthropic is actively hiring, looking for talent in various fields to join their team. \n",
       "\n",
       "Overall, Anthropic aims to put safety at the forefront of AI development while fostering a culture of research and innovation."
      ],
      "text/plain": [
       "<IPython.core.display.Markdown object>"
      ]
     },
     "metadata": {},
     "output_type": "display_data"
    }
   ],
   "source": [
    "display_summary(\"https://anthropic.com\")"
   ]
  },
  {
   "cell_type": "code",
   "execution_count": null,
   "metadata": {},
   "outputs": [],
   "source": []
  }
 ],
 "metadata": {
  "kernelspec": {
   "display_name": "Python 3 (ipykernel)",
   "language": "python",
   "name": "python3"
  },
  "language_info": {
   "codemirror_mode": {
    "name": "ipython",
    "version": 3
   },
   "file_extension": ".py",
   "mimetype": "text/x-python",
   "name": "python",
   "nbconvert_exporter": "python",
   "pygments_lexer": "ipython3",
   "version": "3.10.12"
  }
 },
 "nbformat": 4,
 "nbformat_minor": 4
}
